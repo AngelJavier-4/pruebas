{
 "cells": [
  {
   "cell_type": "code",
   "execution_count": 35,
   "id": "6c661a14-53c7-489f-8777-4410ea82a601",
   "metadata": {},
   "outputs": [
    {
     "ename": "TypeError",
     "evalue": "'function' object is not subscriptable",
     "output_type": "error",
     "traceback": [
      "\u001b[1;31m---------------------------------------------------------------------------\u001b[0m",
      "\u001b[1;31mTypeError\u001b[0m                                 Traceback (most recent call last)",
      "\u001b[1;32m<ipython-input-35-58ec11ee40f6>\u001b[0m in \u001b[0;36m<module>\u001b[1;34m\u001b[0m\n\u001b[0;32m     45\u001b[0m     \u001b[0mprint\u001b[0m\u001b[1;33m(\u001b[0m\u001b[0mgrid\u001b[0m\u001b[1;33m)\u001b[0m\u001b[1;33m\u001b[0m\u001b[1;33m\u001b[0m\u001b[0m\n\u001b[0;32m     46\u001b[0m \u001b[1;33m\u001b[0m\u001b[0m\n\u001b[1;32m---> 47\u001b[1;33m \u001b[0mprint\u001b[0m\u001b[1;33m(\u001b[0m\u001b[0mgrid_user\u001b[0m\u001b[1;33m(\u001b[0m\u001b[0mgrid_user\u001b[0m\u001b[1;33m)\u001b[0m\u001b[1;33m)\u001b[0m\u001b[1;33m\u001b[0m\u001b[1;33m\u001b[0m\u001b[0m\n\u001b[0m\u001b[0;32m     48\u001b[0m \u001b[1;33m\u001b[0m\u001b[0m\n",
      "\u001b[1;32m<ipython-input-35-58ec11ee40f6>\u001b[0m in \u001b[0;36mgrid_user\u001b[1;34m(grid)\u001b[0m\n\u001b[0;32m     17\u001b[0m \u001b[1;33m\u001b[0m\u001b[0m\n\u001b[0;32m     18\u001b[0m         \u001b[1;31m# Recogemos las 4 posiciones candidatas\u001b[0m\u001b[1;33m\u001b[0m\u001b[1;33m\u001b[0m\u001b[1;33m\u001b[0m\u001b[0m\n\u001b[1;32m---> 19\u001b[1;33m         \u001b[0mcoors_posiN\u001b[0m \u001b[1;33m=\u001b[0m \u001b[0mgrid\u001b[0m\u001b[1;33m[\u001b[0m\u001b[0mfila\u001b[0m\u001b[1;33m:\u001b[0m\u001b[0mfila\u001b[0m\u001b[1;33m-\u001b[0m\u001b[0meslora\u001b[0m\u001b[1;33m:\u001b[0m\u001b[1;33m-\u001b[0m\u001b[1;36m1\u001b[0m\u001b[1;33m,\u001b[0m \u001b[0mcol\u001b[0m\u001b[1;33m]\u001b[0m\u001b[1;33m\u001b[0m\u001b[1;33m\u001b[0m\u001b[0m\n\u001b[0m\u001b[0;32m     20\u001b[0m         \u001b[0mcoors_posiE\u001b[0m \u001b[1;33m=\u001b[0m \u001b[0mgrid\u001b[0m\u001b[1;33m[\u001b[0m\u001b[0mfila\u001b[0m\u001b[1;33m,\u001b[0m \u001b[0mcol\u001b[0m\u001b[1;33m:\u001b[0m\u001b[0mcol\u001b[0m\u001b[1;33m+\u001b[0m\u001b[0meslora\u001b[0m\u001b[1;33m]\u001b[0m\u001b[1;33m\u001b[0m\u001b[1;33m\u001b[0m\u001b[0m\n\u001b[0;32m     21\u001b[0m         \u001b[0mcoors_posiS\u001b[0m \u001b[1;33m=\u001b[0m \u001b[0mgrid\u001b[0m\u001b[1;33m[\u001b[0m\u001b[0mfila\u001b[0m\u001b[1;33m:\u001b[0m\u001b[0mfila\u001b[0m \u001b[1;33m+\u001b[0m \u001b[0meslora\u001b[0m\u001b[1;33m,\u001b[0m \u001b[0mcol\u001b[0m\u001b[1;33m]\u001b[0m\u001b[1;33m\u001b[0m\u001b[1;33m\u001b[0m\u001b[0m\n",
      "\u001b[1;31mTypeError\u001b[0m: 'function' object is not subscriptable"
     ]
    }
   ],
   "source": [
    "import numpy as np\n",
    "import random\n",
    "grid_user = np.full((10,10), ' ') #Tablero del jugador\n",
    "eslora=4\n",
    "\n",
    "def grid_user(grid): #Colocacion de los barcos del usuario en el tablero\n",
    "   \n",
    "    \n",
    "    while True:\n",
    "        # Orientacion aleatoria\n",
    "        orient = random.choice(['N', 'S', 'E', 'O'])\n",
    "    \n",
    "        # Posicion inicial del barco\n",
    "        current_pos = np.random.randint(10, size=2)\n",
    "        fila = current_pos[0]\n",
    "        col = current_pos[1]\n",
    "    \n",
    "        # Recogemos las 4 posiciones candidatas\n",
    "        coors_posiN = grid[fila:fila-eslora:-1, col]\n",
    "        coors_posiE = grid[fila, col:col+eslora]\n",
    "        coors_posiS = grid[fila:fila + eslora, col]\n",
    "        coors_posiO = grid[fila, col:col - eslora:-1]\n",
    "    \n",
    "        # Compruebo N\n",
    "        if (orient == 'N') and len(coors_posiN) == eslora and ('O' not in coors_posiN):\n",
    "            grid[fila:fila-eslora:-1, col] = 'O'\n",
    "            break\n",
    "    \n",
    "        # Compruebo E\n",
    "        elif (orient == 'E') and len(coors_posiE) == eslora and ('O' not in coors_posiE):\n",
    "            grid[fila, col:col+eslora] = 'O'\n",
    "            break\n",
    "    \n",
    "        # Compruebo S\n",
    "        elif (orient == 'S') and len(coors_posiS) == eslora and ('O' not in coors_posiS):\n",
    "            grid[fila:fila + eslora, col] = 'O'\n",
    "            break\n",
    "    \n",
    "        # Compruebo O\n",
    "        elif (orient == 'O') and len(coors_posiO) == eslora and ('O' not in coors_posiO):\n",
    "            grid[fila, col: col - eslora:-1] = 'O'\n",
    "            break\n",
    "        continue\n",
    "    \n",
    "    print(grid)\n",
    "    \n",
    "print(grid_user(grid_user))\n",
    "        "
   ]
  },
  {
   "cell_type": "code",
   "execution_count": 30,
   "id": "f09a1773-b4a0-4823-b2f4-b59eebca9c83",
   "metadata": {
    "tags": []
   },
   "outputs": [
    {
     "name": "stdin",
     "output_type": "stream",
     "text": [
      "Introduce la eslora de tus barcos 1 a 1:  4\n"
     ]
    },
    {
     "name": "stdout",
     "output_type": "stream",
     "text": [
      "Los barcos que tienes son: [4]\n"
     ]
    },
    {
     "name": "stdin",
     "output_type": "stream",
     "text": [
      "Introduce la eslora de tus barcos 1 a 1:  3\n"
     ]
    },
    {
     "name": "stdout",
     "output_type": "stream",
     "text": [
      "Los barcos que tienes son: [4, 3]\n"
     ]
    },
    {
     "name": "stdin",
     "output_type": "stream",
     "text": [
      "Introduce la eslora de tus barcos 1 a 1:  3\n"
     ]
    },
    {
     "name": "stdout",
     "output_type": "stream",
     "text": [
      "Los barcos que tienes son: [4, 3, 3]\n"
     ]
    },
    {
     "name": "stdin",
     "output_type": "stream",
     "text": [
      "Introduce la eslora de tus barcos 1 a 1:  2\n"
     ]
    },
    {
     "name": "stdout",
     "output_type": "stream",
     "text": [
      "Los barcos que tienes son: [4, 3, 3, 2]\n"
     ]
    },
    {
     "name": "stdin",
     "output_type": "stream",
     "text": [
      "Introduce la eslora de tus barcos 1 a 1:  2\n"
     ]
    },
    {
     "name": "stdout",
     "output_type": "stream",
     "text": [
      "Los barcos que tienes son: [4, 3, 3, 2, 2]\n"
     ]
    },
    {
     "name": "stdin",
     "output_type": "stream",
     "text": [
      "Introduce la eslora de tus barcos 1 a 1:  2\n"
     ]
    },
    {
     "name": "stdout",
     "output_type": "stream",
     "text": [
      "Los barcos que tienes son: [4, 3, 3, 2, 2, 2]\n"
     ]
    },
    {
     "name": "stdin",
     "output_type": "stream",
     "text": [
      "Introduce la eslora de tus barcos 1 a 1:  1\n"
     ]
    },
    {
     "name": "stdout",
     "output_type": "stream",
     "text": [
      "Los barcos que tienes son: [4, 3, 3, 2, 2, 2, 1]\n"
     ]
    },
    {
     "name": "stdin",
     "output_type": "stream",
     "text": [
      "Introduce la eslora de tus barcos 1 a 1:  1\n"
     ]
    },
    {
     "name": "stdout",
     "output_type": "stream",
     "text": [
      "Los barcos que tienes son: [4, 3, 3, 2, 2, 2, 1, 1]\n"
     ]
    },
    {
     "name": "stdin",
     "output_type": "stream",
     "text": [
      "Introduce la eslora de tus barcos 1 a 1:  1\n"
     ]
    },
    {
     "name": "stdout",
     "output_type": "stream",
     "text": [
      "Los barcos que tienes son: [4, 3, 3, 2, 2, 2, 1, 1, 1]\n"
     ]
    },
    {
     "name": "stdin",
     "output_type": "stream",
     "text": [
      "Introduce la eslora de tus barcos 1 a 1:  1\n"
     ]
    },
    {
     "name": "stdout",
     "output_type": "stream",
     "text": [
      "Los barcos que tienes son: [4, 3, 3, 2, 2, 2, 1, 1, 1, 1]\n"
     ]
    }
   ],
   "source": [
    "eslora = None \n",
    "barcos = []\n",
    "\n",
    "while len(barcos) <= 9:\n",
    "    eslora = int(input('Introduce la eslora de tus barcos 1 a 1: '))\n",
    "    barcos.append(eslora)\n",
    "    \n",
    "    print('Los barcos que tienes son:', barcos)\n"
   ]
  },
  {
   "cell_type": "code",
   "execution_count": 23,
   "id": "b547f80a-b51e-42c0-a308-3179688344a0",
   "metadata": {},
   "outputs": [
    {
     "data": {
      "text/plain": [
       "10"
      ]
     },
     "execution_count": 23,
     "metadata": {},
     "output_type": "execute_result"
    }
   ],
   "source": [
    "len(barcos)"
   ]
  },
  {
   "cell_type": "code",
   "execution_count": null,
   "id": "e37ecf55-eb69-4357-8e1f-618459a1971f",
   "metadata": {},
   "outputs": [],
   "source": [
    "for i in barcos:\n",
    "    barcos.append(eslora)\n",
    "\n",
    "    print('Los barcos que tienes son:', barcos)"
   ]
  }
 ],
 "metadata": {
  "kernelspec": {
   "display_name": "Python 3",
   "language": "python",
   "name": "python3"
  },
  "language_info": {
   "codemirror_mode": {
    "name": "ipython",
    "version": 3
   },
   "file_extension": ".py",
   "mimetype": "text/x-python",
   "name": "python",
   "nbconvert_exporter": "python",
   "pygments_lexer": "ipython3",
   "version": "3.8.8"
  }
 },
 "nbformat": 4,
 "nbformat_minor": 5
}
