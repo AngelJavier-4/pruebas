{
 "cells": [
  {
   "cell_type": "markdown",
   "metadata": {},
   "source": [
    "# Centros educativos en New York\n",
    "Nueva York es una de las ciudades más pobladas de EEUU y cuenta con una población de lo más plural y heterogénea, donde conviven habitantes de naciones de todo el mundo. Por supuesto, los centros educativos no se quedan al margen de esto y las aulas se componen de alumnos latinos, asiáticos, afroamericanos...\n",
    "\n",
    "**El objetivo de este ejecicio es realizar un análisis exploratorio de datos para determinar el estado de las ayudas y necesidades de los colegios de Nueva York, y con ello poder tomar decisiones BASADAS EN LOS DATOS. Para el análisis utilizarás datos como las localizaciones geográficas de los colegios, pertenencia comunitaria, raza de los estudiantes y nivel académico.**\n",
    "\n",
    "Por tanto, consideraremos las siguientes hipótesis que habrá que razonar con los datos disponibles:\n",
    "1. Si un colegio pertenece o no a una comunidad tiene impacto en las ayudas económicas recibidas.\n",
    "2. Hay centros con mayoría de estudiantes hispanos o negros que tienen más necesidades económicas que los centros con mayoría de raza blanca.\n",
    "3. La localización de los colegios está afectando a las ayudas.\n",
    "4. Los centros con mayores necesidades tienen un % de asistencia a clase más bajo.\n",
    "\n",
    "Para contrastar estas hipótesis, tendrás que llevar a cabo los siguientes pasos en la analítica:\n",
    "1. Analizar geográficamente las zonas de NY, en función de las necesidades económicas y las estimaciones de ingresos de los colegios.\n",
    "2. ¿Cómo se reparten geográficamente los colegios en función de la raza de sus estudiantes?\n",
    "\n",
    "    2.1 ¿En qué zonas de NY se encuentran la mayor parte de colegios con estudiantes de raza negra?\n",
    "    \n",
    "    2.2 Lo mismo para raza hispana\n",
    "    \n",
    "    2.3 Raza blanca\n",
    "    \n",
    "    2.4 Asiática\n",
    "    \n",
    "3. Analiza las distribuciones de los % de cada raza. ¿Qué raza o razas dirías que predomina en los colegios de NY?\n",
    "\n",
    "4. ¿Hay alguna relación entre las necesidades económicas de los colegios y la raza de sus estudiantes? ¿Y entre los ingresos y sus razas?\n",
    "\n",
    "5. Analicemos ahora la asistencia a clase. Supongamos que hay colegios con alta tasa de ausencia (>=30%) y baja tasa de asistencia (<=11%).\n",
    "\n",
    "    5.1 ¿Dónde se situan los de alta y baja tasa?\n",
    "    \n",
    "    5.2 ¿Qué % mayoritario de razas tienen ambos grupos?\n",
    "    \n",
    "    5.3 Necesidades económicas y estimación de ingresos de esos colegios.\n",
    "    \n",
    "6. Vamos a analizar el rendimiento académico de los alumnos. Para ello, tendremos que dividir el dataset en colegios donde predominan latinos y negros (>= 70%) vs predominio de asiáticos y blancos. Saca algunos estadísticos y compara en una gráfica las funciones de densidad de ambos grupos, para los scores de matemáticas y ELA (English Language Arts).\n",
    "\n",
    "7. Comprobaremos ahora la influencia de si un colegio pertenezca o no a una comunidad\n",
    "\n",
    "    7.1 ¿En qué afecta que el colegio pertenezca a una comunidad? Raza, necesidades económicas, ingresos...\n",
    "    \n",
    "    7.2 Compara mediante funciones de densidad si los colegios comunitarios tienen mayores ingresos.\n",
    "    \n",
    "    7.3 Compara mediante funciones de densidad si los colegios comunitarios tienen mayores necesidades económicas.\n",
    "    \n",
    "8. ¿Existe aguna relación entre las necesidades económicas de los colegios y las estimaciones de ingresos?\n",
    "\n",
    "9. Conclusiones"
   ]
  },
  {
   "cell_type": "markdown",
   "metadata": {},
   "source": [
    "<img src='https://upload.wikimedia.org/wikipedia/commons/thumb/3/3d/Map_of_New_York_Economic_Regions.svg/2000px-Map_of_New_York_Economic_Regions.svg.png'/>"
   ]
  }
 ],
 "metadata": {
  "kernelspec": {
   "display_name": "Python 3",
   "language": "python",
   "name": "python3"
  },
  "language_info": {
   "codemirror_mode": {
    "name": "ipython",
    "version": 3
   },
   "file_extension": ".py",
   "mimetype": "text/x-python",
   "name": "python",
   "nbconvert_exporter": "python",
   "pygments_lexer": "ipython3",
   "version": "3.8.8"
  }
 },
 "nbformat": 4,
 "nbformat_minor": 4
}
