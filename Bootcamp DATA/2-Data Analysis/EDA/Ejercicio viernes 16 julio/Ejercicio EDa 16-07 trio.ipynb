{
 "cells": [
  {
   "cell_type": "code",
   "execution_count": 30,
   "id": "ad29ca12-8dfe-404c-ab0a-0d0f8d262921",
   "metadata": {},
   "outputs": [],
   "source": [
    "import csv\n",
    "import pandas as pd\n",
    "import numpy as np\n",
    "import seaborn as sns\n",
    "import matplotlib.pyplot as plt\n",
    "%matplotlib inline"
   ]
  },
  {
   "cell_type": "code",
   "execution_count": 7,
   "id": "8a41b19a-1222-4e85-850d-9caf4285f204",
   "metadata": {},
   "outputs": [],
   "source": [
    "responses = pd.read_csv(\"multipleChoiceResponses.csv\")\n"
   ]
  },
  {
   "cell_type": "code",
   "execution_count": 199,
   "id": "b55afdf7-3ea6-403b-a89c-69971efd2b56",
   "metadata": {},
   "outputs": [
    {
     "data": {
      "text/html": [
       "<div>\n",
       "<style scoped>\n",
       "    .dataframe tbody tr th:only-of-type {\n",
       "        vertical-align: middle;\n",
       "    }\n",
       "\n",
       "    .dataframe tbody tr th {\n",
       "        vertical-align: top;\n",
       "    }\n",
       "\n",
       "    .dataframe thead th {\n",
       "        text-align: right;\n",
       "    }\n",
       "</style>\n",
       "<table border=\"1\" class=\"dataframe\">\n",
       "  <thead>\n",
       "    <tr style=\"text-align: right;\">\n",
       "      <th></th>\n",
       "      <th>GenderSelect</th>\n",
       "      <th>Country</th>\n",
       "      <th>Age</th>\n",
       "      <th>EmploymentStatus</th>\n",
       "      <th>StudentStatus</th>\n",
       "      <th>LearningDataScience</th>\n",
       "      <th>CodeWriter</th>\n",
       "      <th>CareerSwitcher</th>\n",
       "      <th>CurrentJobTitleSelect</th>\n",
       "      <th>TitleFit</th>\n",
       "      <th>...</th>\n",
       "      <th>JobFactorExperienceLevel</th>\n",
       "      <th>JobFactorDepartment</th>\n",
       "      <th>JobFactorTitle</th>\n",
       "      <th>JobFactorCompanyFunding</th>\n",
       "      <th>JobFactorImpact</th>\n",
       "      <th>JobFactorRemote</th>\n",
       "      <th>JobFactorIndustry</th>\n",
       "      <th>JobFactorLeaderReputation</th>\n",
       "      <th>JobFactorDiversity</th>\n",
       "      <th>JobFactorPublishingOpportunity</th>\n",
       "    </tr>\n",
       "  </thead>\n",
       "  <tbody>\n",
       "    <tr>\n",
       "      <th>0</th>\n",
       "      <td>Non-binary, genderqueer, or gender non-conforming</td>\n",
       "      <td>NaN</td>\n",
       "      <td>NaN</td>\n",
       "      <td>Employed full-time</td>\n",
       "      <td>NaN</td>\n",
       "      <td>NaN</td>\n",
       "      <td>Yes</td>\n",
       "      <td>NaN</td>\n",
       "      <td>DBA/Database Engineer</td>\n",
       "      <td>Fine</td>\n",
       "      <td>...</td>\n",
       "      <td>NaN</td>\n",
       "      <td>NaN</td>\n",
       "      <td>NaN</td>\n",
       "      <td>NaN</td>\n",
       "      <td>NaN</td>\n",
       "      <td>NaN</td>\n",
       "      <td>NaN</td>\n",
       "      <td>NaN</td>\n",
       "      <td>NaN</td>\n",
       "      <td>NaN</td>\n",
       "    </tr>\n",
       "    <tr>\n",
       "      <th>1</th>\n",
       "      <td>Female</td>\n",
       "      <td>United States</td>\n",
       "      <td>30.0</td>\n",
       "      <td>Not employed, but looking for work</td>\n",
       "      <td>NaN</td>\n",
       "      <td>NaN</td>\n",
       "      <td>NaN</td>\n",
       "      <td>NaN</td>\n",
       "      <td>NaN</td>\n",
       "      <td>NaN</td>\n",
       "      <td>...</td>\n",
       "      <td>NaN</td>\n",
       "      <td>NaN</td>\n",
       "      <td>NaN</td>\n",
       "      <td>NaN</td>\n",
       "      <td>NaN</td>\n",
       "      <td>NaN</td>\n",
       "      <td>NaN</td>\n",
       "      <td>Somewhat important</td>\n",
       "      <td>NaN</td>\n",
       "      <td>NaN</td>\n",
       "    </tr>\n",
       "    <tr>\n",
       "      <th>2</th>\n",
       "      <td>Male</td>\n",
       "      <td>Canada</td>\n",
       "      <td>28.0</td>\n",
       "      <td>Not employed, but looking for work</td>\n",
       "      <td>NaN</td>\n",
       "      <td>NaN</td>\n",
       "      <td>NaN</td>\n",
       "      <td>NaN</td>\n",
       "      <td>NaN</td>\n",
       "      <td>NaN</td>\n",
       "      <td>...</td>\n",
       "      <td>Very Important</td>\n",
       "      <td>Very Important</td>\n",
       "      <td>Very Important</td>\n",
       "      <td>Very Important</td>\n",
       "      <td>Very Important</td>\n",
       "      <td>Very Important</td>\n",
       "      <td>Very Important</td>\n",
       "      <td>Very Important</td>\n",
       "      <td>Very Important</td>\n",
       "      <td>Very Important</td>\n",
       "    </tr>\n",
       "    <tr>\n",
       "      <th>3</th>\n",
       "      <td>Male</td>\n",
       "      <td>United States</td>\n",
       "      <td>56.0</td>\n",
       "      <td>Independent contractor, freelancer, or self-em...</td>\n",
       "      <td>NaN</td>\n",
       "      <td>NaN</td>\n",
       "      <td>Yes</td>\n",
       "      <td>NaN</td>\n",
       "      <td>Operations Research Practitioner</td>\n",
       "      <td>Poorly</td>\n",
       "      <td>...</td>\n",
       "      <td>NaN</td>\n",
       "      <td>NaN</td>\n",
       "      <td>NaN</td>\n",
       "      <td>NaN</td>\n",
       "      <td>NaN</td>\n",
       "      <td>NaN</td>\n",
       "      <td>NaN</td>\n",
       "      <td>NaN</td>\n",
       "      <td>NaN</td>\n",
       "      <td>NaN</td>\n",
       "    </tr>\n",
       "    <tr>\n",
       "      <th>4</th>\n",
       "      <td>Male</td>\n",
       "      <td>Taiwan</td>\n",
       "      <td>38.0</td>\n",
       "      <td>Employed full-time</td>\n",
       "      <td>NaN</td>\n",
       "      <td>NaN</td>\n",
       "      <td>Yes</td>\n",
       "      <td>NaN</td>\n",
       "      <td>Computer Scientist</td>\n",
       "      <td>Fine</td>\n",
       "      <td>...</td>\n",
       "      <td>NaN</td>\n",
       "      <td>NaN</td>\n",
       "      <td>NaN</td>\n",
       "      <td>NaN</td>\n",
       "      <td>NaN</td>\n",
       "      <td>NaN</td>\n",
       "      <td>NaN</td>\n",
       "      <td>NaN</td>\n",
       "      <td>NaN</td>\n",
       "      <td>NaN</td>\n",
       "    </tr>\n",
       "  </tbody>\n",
       "</table>\n",
       "<p>5 rows × 228 columns</p>\n",
       "</div>"
      ],
      "text/plain": [
       "                                        GenderSelect        Country   Age  \\\n",
       "0  Non-binary, genderqueer, or gender non-conforming            NaN   NaN   \n",
       "1                                             Female  United States  30.0   \n",
       "2                                               Male         Canada  28.0   \n",
       "3                                               Male  United States  56.0   \n",
       "4                                               Male         Taiwan  38.0   \n",
       "\n",
       "                                    EmploymentStatus StudentStatus  \\\n",
       "0                                 Employed full-time           NaN   \n",
       "1                 Not employed, but looking for work           NaN   \n",
       "2                 Not employed, but looking for work           NaN   \n",
       "3  Independent contractor, freelancer, or self-em...           NaN   \n",
       "4                                 Employed full-time           NaN   \n",
       "\n",
       "  LearningDataScience CodeWriter CareerSwitcher  \\\n",
       "0                 NaN        Yes            NaN   \n",
       "1                 NaN        NaN            NaN   \n",
       "2                 NaN        NaN            NaN   \n",
       "3                 NaN        Yes            NaN   \n",
       "4                 NaN        Yes            NaN   \n",
       "\n",
       "              CurrentJobTitleSelect TitleFit  ... JobFactorExperienceLevel  \\\n",
       "0             DBA/Database Engineer     Fine  ...                      NaN   \n",
       "1                               NaN      NaN  ...                      NaN   \n",
       "2                               NaN      NaN  ...           Very Important   \n",
       "3  Operations Research Practitioner   Poorly  ...                      NaN   \n",
       "4                Computer Scientist     Fine  ...                      NaN   \n",
       "\n",
       "  JobFactorDepartment  JobFactorTitle JobFactorCompanyFunding JobFactorImpact  \\\n",
       "0                 NaN             NaN                     NaN             NaN   \n",
       "1                 NaN             NaN                     NaN             NaN   \n",
       "2      Very Important  Very Important          Very Important  Very Important   \n",
       "3                 NaN             NaN                     NaN             NaN   \n",
       "4                 NaN             NaN                     NaN             NaN   \n",
       "\n",
       "  JobFactorRemote JobFactorIndustry JobFactorLeaderReputation  \\\n",
       "0             NaN               NaN                       NaN   \n",
       "1             NaN               NaN        Somewhat important   \n",
       "2  Very Important    Very Important            Very Important   \n",
       "3             NaN               NaN                       NaN   \n",
       "4             NaN               NaN                       NaN   \n",
       "\n",
       "  JobFactorDiversity JobFactorPublishingOpportunity  \n",
       "0                NaN                            NaN  \n",
       "1                NaN                            NaN  \n",
       "2     Very Important                 Very Important  \n",
       "3                NaN                            NaN  \n",
       "4                NaN                            NaN  \n",
       "\n",
       "[5 rows x 228 columns]"
      ]
     },
     "execution_count": 199,
     "metadata": {},
     "output_type": "execute_result"
    }
   ],
   "source": [
    "responses.head()"
   ]
  },
  {
   "cell_type": "code",
   "execution_count": 201,
   "id": "f9fb5f8e-846d-4a6b-9e60-66a53dd05f2f",
   "metadata": {},
   "outputs": [
    {
     "data": {
      "text/plain": [
       "array([nan, 'USD', 'AUD', 'RUB', 'INR', 'TWD', 'CZK', 'COP', 'EUR', 'PLN',\n",
       "       'GBP', 'MXN', 'HKD', 'HUF', 'BRL', 'NZD', 'CLP', 'ZAR', 'JPY',\n",
       "       'KRW', 'PEN', 'ARS', 'CAD', 'CNY', 'AMD', 'MYR', 'VND', 'PHP',\n",
       "       'IDR', 'BIF', 'GTQ', 'THB', 'PKR', 'NPR', 'SGD', 'SEK', 'NGN',\n",
       "       'TRY', 'IRR', 'AED', 'NOK', 'KES', 'AFN', 'BHD', 'BDT', 'CHF',\n",
       "       'BGN', 'LKR', 'CUP', 'UAH', 'KZT', 'UGX', 'DKK', 'SDG', 'CRC',\n",
       "       'ILS', 'MAD', 'XOF', 'TND', 'RON', 'TTD', 'ISK', 'RSD', 'BYN',\n",
       "       'SZL', 'EGP', 'GHS', 'BSD', 'DOP', 'SVC', 'YER', 'ALL', 'BAM',\n",
       "       'MGA', 'ETB', 'SAR', 'HRK', 'JOD', 'DZD', 'XAF', 'MUR', 'VEF',\n",
       "       'PAB', 'UYU', 'SPL', 'OMR', 'AZN', 'IQD'], dtype=object)"
      ]
     },
     "execution_count": 201,
     "metadata": {},
     "output_type": "execute_result"
    }
   ],
   "source": [
    "responses['CompensationCurrency'].unique()"
   ]
  },
  {
   "cell_type": "code",
   "execution_count": 151,
   "id": "f5544f36-de8d-4b3d-9779-4e5892d11ab9",
   "metadata": {},
   "outputs": [
    {
     "data": {
      "text/plain": [
       "['GenderSelect',\n",
       " 'Country',\n",
       " 'Age',\n",
       " 'EmploymentStatus',\n",
       " 'StudentStatus',\n",
       " 'LearningDataScience',\n",
       " 'CodeWriter',\n",
       " 'CareerSwitcher',\n",
       " 'CurrentJobTitleSelect',\n",
       " 'TitleFit',\n",
       " 'CurrentEmployerType',\n",
       " 'MLToolNextYearSelect',\n",
       " 'MLMethodNextYearSelect',\n",
       " 'LanguageRecommendationSelect',\n",
       " 'PublicDatasetsSelect',\n",
       " 'LearningPlatformSelect',\n",
       " 'LearningPlatformUsefulnessArxiv',\n",
       " 'LearningPlatformUsefulnessBlogs',\n",
       " 'LearningPlatformUsefulnessCollege',\n",
       " 'LearningPlatformUsefulnessCompany',\n",
       " 'LearningPlatformUsefulnessConferences',\n",
       " 'LearningPlatformUsefulnessFriends',\n",
       " 'LearningPlatformUsefulnessKaggle',\n",
       " 'LearningPlatformUsefulnessNewsletters',\n",
       " 'LearningPlatformUsefulnessCommunities',\n",
       " 'LearningPlatformUsefulnessDocumentation',\n",
       " 'LearningPlatformUsefulnessCourses',\n",
       " 'LearningPlatformUsefulnessProjects',\n",
       " 'LearningPlatformUsefulnessPodcasts',\n",
       " 'LearningPlatformUsefulnessSO',\n",
       " 'LearningPlatformUsefulnessTextbook',\n",
       " 'LearningPlatformUsefulnessTradeBook',\n",
       " 'LearningPlatformUsefulnessTutoring',\n",
       " 'LearningPlatformUsefulnessYouTube',\n",
       " 'BlogsPodcastsNewslettersSelect',\n",
       " 'LearningDataScienceTime',\n",
       " 'JobSkillImportanceBigData',\n",
       " 'JobSkillImportanceDegree',\n",
       " 'JobSkillImportanceStats',\n",
       " 'JobSkillImportanceEnterpriseTools',\n",
       " 'JobSkillImportancePython',\n",
       " 'JobSkillImportanceR',\n",
       " 'JobSkillImportanceSQL',\n",
       " 'JobSkillImportanceKaggleRanking',\n",
       " 'JobSkillImportanceMOOC',\n",
       " 'JobSkillImportanceVisualizations',\n",
       " 'JobSkillImportanceOtherSelect1',\n",
       " 'JobSkillImportanceOtherSelect2',\n",
       " 'JobSkillImportanceOtherSelect3',\n",
       " 'CoursePlatformSelect',\n",
       " 'HardwarePersonalProjectsSelect',\n",
       " 'TimeSpentStudying',\n",
       " 'ProveKnowledgeSelect',\n",
       " 'DataScienceIdentitySelect',\n",
       " 'FormalEducation',\n",
       " 'MajorSelect',\n",
       " 'Tenure',\n",
       " 'PastJobTitlesSelect',\n",
       " 'FirstTrainingSelect',\n",
       " 'LearningCategorySelftTaught',\n",
       " 'LearningCategoryOnlineCourses',\n",
       " 'LearningCategoryWork',\n",
       " 'LearningCategoryUniversity',\n",
       " 'LearningCategoryKaggle',\n",
       " 'LearningCategoryOther',\n",
       " 'MLSkillsSelect',\n",
       " 'MLTechniquesSelect',\n",
       " 'ParentsEducation',\n",
       " 'EmployerIndustry',\n",
       " 'EmployerSize',\n",
       " 'EmployerSizeChange',\n",
       " 'EmployerMLTime',\n",
       " 'EmployerSearchMethod',\n",
       " 'UniversityImportance',\n",
       " 'JobFunctionSelect',\n",
       " 'WorkHardwareSelect',\n",
       " 'WorkDataTypeSelect',\n",
       " 'WorkProductionFrequency',\n",
       " 'WorkDatasetSize',\n",
       " 'WorkAlgorithmsSelect',\n",
       " 'WorkToolsSelect',\n",
       " 'WorkToolsFrequencyAmazonML',\n",
       " 'WorkToolsFrequencyAWS',\n",
       " 'WorkToolsFrequencyAngoss',\n",
       " 'WorkToolsFrequencyC',\n",
       " 'WorkToolsFrequencyCloudera',\n",
       " 'WorkToolsFrequencyDataRobot',\n",
       " 'WorkToolsFrequencyFlume',\n",
       " 'WorkToolsFrequencyGCP',\n",
       " 'WorkToolsFrequencyHadoop',\n",
       " 'WorkToolsFrequencyIBMCognos',\n",
       " 'WorkToolsFrequencyIBMSPSSModeler',\n",
       " 'WorkToolsFrequencyIBMSPSSStatistics',\n",
       " 'WorkToolsFrequencyIBMWatson',\n",
       " 'WorkToolsFrequencyImpala',\n",
       " 'WorkToolsFrequencyJava',\n",
       " 'WorkToolsFrequencyJulia',\n",
       " 'WorkToolsFrequencyJupyter',\n",
       " 'WorkToolsFrequencyKNIMECommercial',\n",
       " 'WorkToolsFrequencyKNIMEFree',\n",
       " 'WorkToolsFrequencyMathematica',\n",
       " 'WorkToolsFrequencyMATLAB',\n",
       " 'WorkToolsFrequencyAzure',\n",
       " 'WorkToolsFrequencyExcel',\n",
       " 'WorkToolsFrequencyMicrosoftRServer',\n",
       " 'WorkToolsFrequencyMicrosoftSQL',\n",
       " 'WorkToolsFrequencyMinitab',\n",
       " 'WorkToolsFrequencyNoSQL',\n",
       " 'WorkToolsFrequencyOracle',\n",
       " 'WorkToolsFrequencyOrange',\n",
       " 'WorkToolsFrequencyPerl',\n",
       " 'WorkToolsFrequencyPython',\n",
       " 'WorkToolsFrequencyQlik',\n",
       " 'WorkToolsFrequencyR',\n",
       " 'WorkToolsFrequencyRapidMinerCommercial',\n",
       " 'WorkToolsFrequencyRapidMinerFree',\n",
       " 'WorkToolsFrequencySalfrod',\n",
       " 'WorkToolsFrequencySAPBusinessObjects',\n",
       " 'WorkToolsFrequencySASBase',\n",
       " 'WorkToolsFrequencySASEnterprise',\n",
       " 'WorkToolsFrequencySASJMP',\n",
       " 'WorkToolsFrequencySpark',\n",
       " 'WorkToolsFrequencySQL',\n",
       " 'WorkToolsFrequencyStan',\n",
       " 'WorkToolsFrequencyStatistica',\n",
       " 'WorkToolsFrequencyTableau',\n",
       " 'WorkToolsFrequencyTensorFlow',\n",
       " 'WorkToolsFrequencyTIBCO',\n",
       " 'WorkToolsFrequencyUnix',\n",
       " 'WorkToolsFrequencySelect1',\n",
       " 'WorkToolsFrequencySelect2',\n",
       " 'WorkFrequencySelect3',\n",
       " 'WorkMethodsSelect',\n",
       " 'WorkMethodsFrequencyA/B',\n",
       " 'WorkMethodsFrequencyAssociationRules',\n",
       " 'WorkMethodsFrequencyBayesian',\n",
       " 'WorkMethodsFrequencyCNNs',\n",
       " 'WorkMethodsFrequencyCollaborativeFiltering',\n",
       " 'WorkMethodsFrequencyCross-Validation',\n",
       " 'WorkMethodsFrequencyDataVisualization',\n",
       " 'WorkMethodsFrequencyDecisionTrees',\n",
       " 'WorkMethodsFrequencyEnsembleMethods',\n",
       " 'WorkMethodsFrequencyEvolutionaryApproaches',\n",
       " 'WorkMethodsFrequencyGANs',\n",
       " 'WorkMethodsFrequencyGBM',\n",
       " 'WorkMethodsFrequencyHMMs',\n",
       " 'WorkMethodsFrequencyKNN',\n",
       " 'WorkMethodsFrequencyLiftAnalysis',\n",
       " 'WorkMethodsFrequencyLogisticRegression',\n",
       " 'WorkMethodsFrequencyMLN',\n",
       " 'WorkMethodsFrequencyNaiveBayes',\n",
       " 'WorkMethodsFrequencyNLP',\n",
       " 'WorkMethodsFrequencyNeuralNetworks',\n",
       " 'WorkMethodsFrequencyPCA',\n",
       " 'WorkMethodsFrequencyPrescriptiveModeling',\n",
       " 'WorkMethodsFrequencyRandomForests',\n",
       " 'WorkMethodsFrequencyRecommenderSystems',\n",
       " 'WorkMethodsFrequencyRNNs',\n",
       " 'WorkMethodsFrequencySegmentation',\n",
       " 'WorkMethodsFrequencySimulation',\n",
       " 'WorkMethodsFrequencySVMs',\n",
       " 'WorkMethodsFrequencyTextAnalysis',\n",
       " 'WorkMethodsFrequencyTimeSeriesAnalysis',\n",
       " 'WorkMethodsFrequencySelect1',\n",
       " 'WorkMethodsFrequencySelect2',\n",
       " 'WorkMethodsFrequencySelect3',\n",
       " 'TimeGatheringData',\n",
       " 'TimeModelBuilding',\n",
       " 'TimeProduction',\n",
       " 'TimeVisualizing',\n",
       " 'TimeFindingInsights',\n",
       " 'TimeOtherSelect',\n",
       " 'AlgorithmUnderstandingLevel',\n",
       " 'WorkChallengesSelect',\n",
       " 'WorkChallengeFrequencyPolitics',\n",
       " 'WorkChallengeFrequencyUnusedResults',\n",
       " 'WorkChallengeFrequencyUnusefulInstrumenting',\n",
       " 'WorkChallengeFrequencyDeployment',\n",
       " 'WorkChallengeFrequencyDirtyData',\n",
       " 'WorkChallengeFrequencyExplaining',\n",
       " 'WorkChallengeFrequencyPass',\n",
       " 'WorkChallengeFrequencyIntegration',\n",
       " 'WorkChallengeFrequencyTalent',\n",
       " 'WorkChallengeFrequencyDataFunds',\n",
       " 'WorkChallengeFrequencyDomainExpertise',\n",
       " 'WorkChallengeFrequencyML',\n",
       " 'WorkChallengeFrequencyTools',\n",
       " 'WorkChallengeFrequencyExpectations',\n",
       " 'WorkChallengeFrequencyITCoordination',\n",
       " 'WorkChallengeFrequencyHiringFunds',\n",
       " 'WorkChallengeFrequencyPrivacy',\n",
       " 'WorkChallengeFrequencyScaling',\n",
       " 'WorkChallengeFrequencyEnvironments',\n",
       " 'WorkChallengeFrequencyClarity',\n",
       " 'WorkChallengeFrequencyDataAccess',\n",
       " 'WorkChallengeFrequencyOtherSelect',\n",
       " 'WorkDataVisualizations',\n",
       " 'WorkInternalVsExternalTools',\n",
       " 'WorkMLTeamSeatSelect',\n",
       " 'WorkDatasets',\n",
       " 'WorkDatasetsChallenge',\n",
       " 'WorkDataStorage',\n",
       " 'WorkDataSharing',\n",
       " 'WorkDataSourcing',\n",
       " 'WorkCodeSharing',\n",
       " 'RemoteWork',\n",
       " 'CompensationAmount',\n",
       " 'CompensationCurrency',\n",
       " 'SalaryChange',\n",
       " 'JobSatisfaction',\n",
       " 'JobSearchResource',\n",
       " 'JobHuntTime',\n",
       " 'JobFactorLearning',\n",
       " 'JobFactorSalary',\n",
       " 'JobFactorOffice',\n",
       " 'JobFactorLanguages',\n",
       " 'JobFactorCommute',\n",
       " 'JobFactorManagement',\n",
       " 'JobFactorExperienceLevel',\n",
       " 'JobFactorDepartment',\n",
       " 'JobFactorTitle',\n",
       " 'JobFactorCompanyFunding',\n",
       " 'JobFactorImpact',\n",
       " 'JobFactorRemote',\n",
       " 'JobFactorIndustry',\n",
       " 'JobFactorLeaderReputation',\n",
       " 'JobFactorDiversity',\n",
       " 'JobFactorPublishingOpportunity']"
      ]
     },
     "execution_count": 151,
     "metadata": {},
     "output_type": "execute_result"
    }
   ],
   "source": [
    "list(responses.columns)"
   ]
  },
  {
   "cell_type": "raw",
   "id": "92e3b761-22c9-4b4a-9463-87c22a2f9c36",
   "metadata": {},
   "source": [
    "responses = pd.DataFrame(responses)\n",
    "conversion = pd.DataFrame(conversion)"
   ]
  },
  {
   "cell_type": "code",
   "execution_count": 80,
   "id": "01876a39-858a-4d3e-bdb6-3be1ae05bfbd",
   "metadata": {},
   "outputs": [
    {
     "data": {
      "text/plain": [
       "15440"
      ]
     },
     "execution_count": 80,
     "metadata": {},
     "output_type": "execute_result"
    }
   ],
   "source": [
    "responses[\"GenderSelect\"].value_counts().sum()"
   ]
  },
  {
   "cell_type": "code",
   "execution_count": 158,
   "id": "8548cb49-cafa-4b42-86ec-b5f25ae39414",
   "metadata": {},
   "outputs": [],
   "source": [
    "salario = responses['CompensationAmount'].dropna()"
   ]
  },
  {
   "cell_type": "code",
   "execution_count": 198,
   "id": "10014f0e-099b-4689-b17c-74ab449caa1d",
   "metadata": {},
   "outputs": [
    {
     "data": {
      "text/plain": [
       "dtype('O')"
      ]
     },
     "execution_count": 198,
     "metadata": {},
     "output_type": "execute_result"
    }
   ],
   "source": [
    "responses['CompensationAmount'].dtypes"
   ]
  },
  {
   "cell_type": "code",
   "execution_count": 196,
   "id": "76f73a59-84bd-4412-a1d0-61bf42314f76",
   "metadata": {},
   "outputs": [
    {
     "data": {
      "text/plain": [
       "pandas.core.series.Series"
      ]
     },
     "execution_count": 196,
     "metadata": {},
     "output_type": "execute_result"
    }
   ],
   "source": [
    "type(salario)"
   ]
  },
  {
   "cell_type": "code",
   "execution_count": 195,
   "id": "0dc3e9b6-74d6-485a-8504-a209bb1f64e6",
   "metadata": {
    "collapsed": true,
    "jupyter": {
     "outputs_hidden": true
    },
    "tags": []
   },
   "outputs": [
    {
     "ename": "TypeError",
     "evalue": "Neither the `x` nor `y` variable appears to be numeric.",
     "output_type": "error",
     "traceback": [
      "\u001b[1;31m---------------------------------------------------------------------------\u001b[0m",
      "\u001b[1;31mTypeError\u001b[0m                                 Traceback (most recent call last)",
      "\u001b[1;32m<ipython-input-195-73ebdfa4d2e4>\u001b[0m in \u001b[0;36m<module>\u001b[1;34m\u001b[0m\n\u001b[1;32m----> 1\u001b[1;33m \u001b[0msns\u001b[0m\u001b[1;33m.\u001b[0m\u001b[0mboxplot\u001b[0m\u001b[1;33m(\u001b[0m\u001b[0mdata\u001b[0m \u001b[1;33m=\u001b[0m \u001b[0mresponses\u001b[0m\u001b[1;33m,\u001b[0m \u001b[0mx\u001b[0m \u001b[1;33m=\u001b[0m \u001b[0mresponses\u001b[0m\u001b[1;33m[\u001b[0m\u001b[1;34m\"GenderSelect\"\u001b[0m\u001b[1;33m]\u001b[0m\u001b[1;33m,\u001b[0m \u001b[0my\u001b[0m\u001b[1;33m=\u001b[0m  \u001b[0mresponses\u001b[0m\u001b[1;33m[\u001b[0m\u001b[1;34m'CompensationAmount'\u001b[0m\u001b[1;33m]\u001b[0m\u001b[1;33m)\u001b[0m\u001b[1;33m\u001b[0m\u001b[1;33m\u001b[0m\u001b[0m\n\u001b[0m\u001b[0;32m      2\u001b[0m \u001b[0mplt\u001b[0m\u001b[1;33m.\u001b[0m\u001b[0mxticks\u001b[0m\u001b[1;33m(\u001b[0m\u001b[0mrotation\u001b[0m\u001b[1;33m=\u001b[0m\u001b[1;36m90\u001b[0m\u001b[1;33m)\u001b[0m\u001b[1;33m;\u001b[0m\u001b[1;33m\u001b[0m\u001b[1;33m\u001b[0m\u001b[0m\n",
      "\u001b[1;32mC:\\ProgramData\\Anaconda3\\lib\\site-packages\\seaborn\\_decorators.py\u001b[0m in \u001b[0;36minner_f\u001b[1;34m(*args, **kwargs)\u001b[0m\n\u001b[0;32m     44\u001b[0m             )\n\u001b[0;32m     45\u001b[0m         \u001b[0mkwargs\u001b[0m\u001b[1;33m.\u001b[0m\u001b[0mupdate\u001b[0m\u001b[1;33m(\u001b[0m\u001b[1;33m{\u001b[0m\u001b[0mk\u001b[0m\u001b[1;33m:\u001b[0m \u001b[0marg\u001b[0m \u001b[1;32mfor\u001b[0m \u001b[0mk\u001b[0m\u001b[1;33m,\u001b[0m \u001b[0marg\u001b[0m \u001b[1;32min\u001b[0m \u001b[0mzip\u001b[0m\u001b[1;33m(\u001b[0m\u001b[0msig\u001b[0m\u001b[1;33m.\u001b[0m\u001b[0mparameters\u001b[0m\u001b[1;33m,\u001b[0m \u001b[0margs\u001b[0m\u001b[1;33m)\u001b[0m\u001b[1;33m}\u001b[0m\u001b[1;33m)\u001b[0m\u001b[1;33m\u001b[0m\u001b[1;33m\u001b[0m\u001b[0m\n\u001b[1;32m---> 46\u001b[1;33m         \u001b[1;32mreturn\u001b[0m \u001b[0mf\u001b[0m\u001b[1;33m(\u001b[0m\u001b[1;33m**\u001b[0m\u001b[0mkwargs\u001b[0m\u001b[1;33m)\u001b[0m\u001b[1;33m\u001b[0m\u001b[1;33m\u001b[0m\u001b[0m\n\u001b[0m\u001b[0;32m     47\u001b[0m     \u001b[1;32mreturn\u001b[0m \u001b[0minner_f\u001b[0m\u001b[1;33m\u001b[0m\u001b[1;33m\u001b[0m\u001b[0m\n\u001b[0;32m     48\u001b[0m \u001b[1;33m\u001b[0m\u001b[0m\n",
      "\u001b[1;32mC:\\ProgramData\\Anaconda3\\lib\\site-packages\\seaborn\\categorical.py\u001b[0m in \u001b[0;36mboxplot\u001b[1;34m(x, y, hue, data, order, hue_order, orient, color, palette, saturation, width, dodge, fliersize, linewidth, whis, ax, **kwargs)\u001b[0m\n\u001b[0;32m   2238\u001b[0m ):\n\u001b[0;32m   2239\u001b[0m \u001b[1;33m\u001b[0m\u001b[0m\n\u001b[1;32m-> 2240\u001b[1;33m     plotter = _BoxPlotter(x, y, hue, data, order, hue_order,\n\u001b[0m\u001b[0;32m   2241\u001b[0m                           \u001b[0morient\u001b[0m\u001b[1;33m,\u001b[0m \u001b[0mcolor\u001b[0m\u001b[1;33m,\u001b[0m \u001b[0mpalette\u001b[0m\u001b[1;33m,\u001b[0m \u001b[0msaturation\u001b[0m\u001b[1;33m,\u001b[0m\u001b[1;33m\u001b[0m\u001b[1;33m\u001b[0m\u001b[0m\n\u001b[0;32m   2242\u001b[0m                           width, dodge, fliersize, linewidth)\n",
      "\u001b[1;32mC:\\ProgramData\\Anaconda3\\lib\\site-packages\\seaborn\\categorical.py\u001b[0m in \u001b[0;36m__init__\u001b[1;34m(self, x, y, hue, data, order, hue_order, orient, color, palette, saturation, width, dodge, fliersize, linewidth)\u001b[0m\n\u001b[0;32m    404\u001b[0m                  width, dodge, fliersize, linewidth):\n\u001b[0;32m    405\u001b[0m \u001b[1;33m\u001b[0m\u001b[0m\n\u001b[1;32m--> 406\u001b[1;33m         \u001b[0mself\u001b[0m\u001b[1;33m.\u001b[0m\u001b[0mestablish_variables\u001b[0m\u001b[1;33m(\u001b[0m\u001b[0mx\u001b[0m\u001b[1;33m,\u001b[0m \u001b[0my\u001b[0m\u001b[1;33m,\u001b[0m \u001b[0mhue\u001b[0m\u001b[1;33m,\u001b[0m \u001b[0mdata\u001b[0m\u001b[1;33m,\u001b[0m \u001b[0morient\u001b[0m\u001b[1;33m,\u001b[0m \u001b[0morder\u001b[0m\u001b[1;33m,\u001b[0m \u001b[0mhue_order\u001b[0m\u001b[1;33m)\u001b[0m\u001b[1;33m\u001b[0m\u001b[1;33m\u001b[0m\u001b[0m\n\u001b[0m\u001b[0;32m    407\u001b[0m         \u001b[0mself\u001b[0m\u001b[1;33m.\u001b[0m\u001b[0mestablish_colors\u001b[0m\u001b[1;33m(\u001b[0m\u001b[0mcolor\u001b[0m\u001b[1;33m,\u001b[0m \u001b[0mpalette\u001b[0m\u001b[1;33m,\u001b[0m \u001b[0msaturation\u001b[0m\u001b[1;33m)\u001b[0m\u001b[1;33m\u001b[0m\u001b[1;33m\u001b[0m\u001b[0m\n\u001b[0;32m    408\u001b[0m \u001b[1;33m\u001b[0m\u001b[0m\n",
      "\u001b[1;32mC:\\ProgramData\\Anaconda3\\lib\\site-packages\\seaborn\\categorical.py\u001b[0m in \u001b[0;36mestablish_variables\u001b[1;34m(self, x, y, hue, data, orient, order, hue_order, units)\u001b[0m\n\u001b[0;32m    154\u001b[0m \u001b[1;33m\u001b[0m\u001b[0m\n\u001b[0;32m    155\u001b[0m             \u001b[1;31m# Figure out the plotting orientation\u001b[0m\u001b[1;33m\u001b[0m\u001b[1;33m\u001b[0m\u001b[1;33m\u001b[0m\u001b[0m\n\u001b[1;32m--> 156\u001b[1;33m             orient = infer_orient(\n\u001b[0m\u001b[0;32m    157\u001b[0m                 \u001b[0mx\u001b[0m\u001b[1;33m,\u001b[0m \u001b[0my\u001b[0m\u001b[1;33m,\u001b[0m \u001b[0morient\u001b[0m\u001b[1;33m,\u001b[0m \u001b[0mrequire_numeric\u001b[0m\u001b[1;33m=\u001b[0m\u001b[0mself\u001b[0m\u001b[1;33m.\u001b[0m\u001b[0mrequire_numeric\u001b[0m\u001b[1;33m\u001b[0m\u001b[1;33m\u001b[0m\u001b[0m\n\u001b[0;32m    158\u001b[0m             )\n",
      "\u001b[1;32mC:\\ProgramData\\Anaconda3\\lib\\site-packages\\seaborn\\_core.py\u001b[0m in \u001b[0;36minfer_orient\u001b[1;34m(x, y, orient, require_numeric)\u001b[0m\n\u001b[0;32m   1343\u001b[0m     \u001b[1;32melif\u001b[0m \u001b[0mrequire_numeric\u001b[0m \u001b[1;32mand\u001b[0m \u001b[1;34m\"numeric\"\u001b[0m \u001b[1;32mnot\u001b[0m \u001b[1;32min\u001b[0m \u001b[1;33m(\u001b[0m\u001b[0mx_type\u001b[0m\u001b[1;33m,\u001b[0m \u001b[0my_type\u001b[0m\u001b[1;33m)\u001b[0m\u001b[1;33m:\u001b[0m\u001b[1;33m\u001b[0m\u001b[1;33m\u001b[0m\u001b[0m\n\u001b[0;32m   1344\u001b[0m         \u001b[0merr\u001b[0m \u001b[1;33m=\u001b[0m \u001b[1;34m\"Neither the `x` nor `y` variable appears to be numeric.\"\u001b[0m\u001b[1;33m\u001b[0m\u001b[1;33m\u001b[0m\u001b[0m\n\u001b[1;32m-> 1345\u001b[1;33m         \u001b[1;32mraise\u001b[0m \u001b[0mTypeError\u001b[0m\u001b[1;33m(\u001b[0m\u001b[0merr\u001b[0m\u001b[1;33m)\u001b[0m\u001b[1;33m\u001b[0m\u001b[1;33m\u001b[0m\u001b[0m\n\u001b[0m\u001b[0;32m   1346\u001b[0m \u001b[1;33m\u001b[0m\u001b[0m\n\u001b[0;32m   1347\u001b[0m     \u001b[1;32melse\u001b[0m\u001b[1;33m:\u001b[0m\u001b[1;33m\u001b[0m\u001b[1;33m\u001b[0m\u001b[0m\n",
      "\u001b[1;31mTypeError\u001b[0m: Neither the `x` nor `y` variable appears to be numeric."
     ]
    }
   ],
   "source": [
    "sns.boxplot(data = responses, x = responses[\"GenderSelect\"], y=  responses['CompensationAmount'])\n",
    "plt.xticks(rotation=90);"
   ]
  },
  {
   "cell_type": "code",
   "execution_count": 180,
   "id": "af9d3489-87bc-4548-bdb7-087e3ed8abd3",
   "metadata": {
    "collapsed": true,
    "jupyter": {
     "outputs_hidden": true
    },
    "tags": []
   },
   "outputs": [
    {
     "ename": "TypeError",
     "evalue": "'<=' not supported between instances of 'float' and 'str'",
     "output_type": "error",
     "traceback": [
      "\u001b[1;31m---------------------------------------------------------------------------\u001b[0m",
      "\u001b[1;31mTypeError\u001b[0m                                 Traceback (most recent call last)",
      "\u001b[1;32m<ipython-input-180-137b69db012a>\u001b[0m in \u001b[0;36m<module>\u001b[1;34m\u001b[0m\n\u001b[1;32m----> 1\u001b[1;33m \u001b[0mresponses\u001b[0m\u001b[1;33m.\u001b[0m\u001b[0mgroupby\u001b[0m\u001b[1;33m(\u001b[0m\u001b[1;34m\"GenderSelect\"\u001b[0m\u001b[1;33m)\u001b[0m\u001b[1;33m[\u001b[0m\u001b[1;34m'CompensationAmount'\u001b[0m\u001b[1;33m]\u001b[0m\u001b[1;33m.\u001b[0m\u001b[0maggregate\u001b[0m\u001b[1;33m(\u001b[0m\u001b[1;33m[\u001b[0m\u001b[1;34m\"min\"\u001b[0m\u001b[1;33m,\u001b[0m\u001b[1;34m\"max\"\u001b[0m\u001b[1;33m]\u001b[0m\u001b[1;33m)\u001b[0m\u001b[1;33m\u001b[0m\u001b[1;33m\u001b[0m\u001b[0m\n\u001b[0m",
      "\u001b[1;32mC:\\ProgramData\\Anaconda3\\lib\\site-packages\\pandas\\core\\groupby\\generic.py\u001b[0m in \u001b[0;36maggregate\u001b[1;34m(self, func, engine, engine_kwargs, *args, **kwargs)\u001b[0m\n\u001b[0;32m    245\u001b[0m             \u001b[1;31m# but not the class list / tuple itself.\u001b[0m\u001b[1;33m\u001b[0m\u001b[1;33m\u001b[0m\u001b[1;33m\u001b[0m\u001b[0m\n\u001b[0;32m    246\u001b[0m             \u001b[0mfunc\u001b[0m \u001b[1;33m=\u001b[0m \u001b[0mmaybe_mangle_lambdas\u001b[0m\u001b[1;33m(\u001b[0m\u001b[0mfunc\u001b[0m\u001b[1;33m)\u001b[0m\u001b[1;33m\u001b[0m\u001b[1;33m\u001b[0m\u001b[0m\n\u001b[1;32m--> 247\u001b[1;33m             \u001b[0mret\u001b[0m \u001b[1;33m=\u001b[0m \u001b[0mself\u001b[0m\u001b[1;33m.\u001b[0m\u001b[0m_aggregate_multiple_funcs\u001b[0m\u001b[1;33m(\u001b[0m\u001b[0mfunc\u001b[0m\u001b[1;33m)\u001b[0m\u001b[1;33m\u001b[0m\u001b[1;33m\u001b[0m\u001b[0m\n\u001b[0m\u001b[0;32m    248\u001b[0m             \u001b[1;32mif\u001b[0m \u001b[0mrelabeling\u001b[0m\u001b[1;33m:\u001b[0m\u001b[1;33m\u001b[0m\u001b[1;33m\u001b[0m\u001b[0m\n\u001b[0;32m    249\u001b[0m                 \u001b[0mret\u001b[0m\u001b[1;33m.\u001b[0m\u001b[0mcolumns\u001b[0m \u001b[1;33m=\u001b[0m \u001b[0mcolumns\u001b[0m\u001b[1;33m\u001b[0m\u001b[1;33m\u001b[0m\u001b[0m\n",
      "\u001b[1;32mC:\\ProgramData\\Anaconda3\\lib\\site-packages\\pandas\\core\\groupby\\generic.py\u001b[0m in \u001b[0;36m_aggregate_multiple_funcs\u001b[1;34m(self, arg)\u001b[0m\n\u001b[0;32m    313\u001b[0m                 \u001b[0mobj\u001b[0m\u001b[1;33m.\u001b[0m\u001b[0m_reset_cache\u001b[0m\u001b[1;33m(\u001b[0m\u001b[1;33m)\u001b[0m\u001b[1;33m\u001b[0m\u001b[1;33m\u001b[0m\u001b[0m\n\u001b[0;32m    314\u001b[0m                 \u001b[0mobj\u001b[0m\u001b[1;33m.\u001b[0m\u001b[0m_selection\u001b[0m \u001b[1;33m=\u001b[0m \u001b[0mname\u001b[0m\u001b[1;33m\u001b[0m\u001b[1;33m\u001b[0m\u001b[0m\n\u001b[1;32m--> 315\u001b[1;33m             \u001b[0mresults\u001b[0m\u001b[1;33m[\u001b[0m\u001b[0mbase\u001b[0m\u001b[1;33m.\u001b[0m\u001b[0mOutputKey\u001b[0m\u001b[1;33m(\u001b[0m\u001b[0mlabel\u001b[0m\u001b[1;33m=\u001b[0m\u001b[0mname\u001b[0m\u001b[1;33m,\u001b[0m \u001b[0mposition\u001b[0m\u001b[1;33m=\u001b[0m\u001b[0midx\u001b[0m\u001b[1;33m)\u001b[0m\u001b[1;33m]\u001b[0m \u001b[1;33m=\u001b[0m \u001b[0mobj\u001b[0m\u001b[1;33m.\u001b[0m\u001b[0maggregate\u001b[0m\u001b[1;33m(\u001b[0m\u001b[0mfunc\u001b[0m\u001b[1;33m)\u001b[0m\u001b[1;33m\u001b[0m\u001b[1;33m\u001b[0m\u001b[0m\n\u001b[0m\u001b[0;32m    316\u001b[0m \u001b[1;33m\u001b[0m\u001b[0m\n\u001b[0;32m    317\u001b[0m         \u001b[1;32mif\u001b[0m \u001b[0many\u001b[0m\u001b[1;33m(\u001b[0m\u001b[0misinstance\u001b[0m\u001b[1;33m(\u001b[0m\u001b[0mx\u001b[0m\u001b[1;33m,\u001b[0m \u001b[0mDataFrame\u001b[0m\u001b[1;33m)\u001b[0m \u001b[1;32mfor\u001b[0m \u001b[0mx\u001b[0m \u001b[1;32min\u001b[0m \u001b[0mresults\u001b[0m\u001b[1;33m.\u001b[0m\u001b[0mvalues\u001b[0m\u001b[1;33m(\u001b[0m\u001b[1;33m)\u001b[0m\u001b[1;33m)\u001b[0m\u001b[1;33m:\u001b[0m\u001b[1;33m\u001b[0m\u001b[1;33m\u001b[0m\u001b[0m\n",
      "\u001b[1;32mC:\\ProgramData\\Anaconda3\\lib\\site-packages\\pandas\\core\\groupby\\generic.py\u001b[0m in \u001b[0;36maggregate\u001b[1;34m(self, func, engine, engine_kwargs, *args, **kwargs)\u001b[0m\n\u001b[0;32m    239\u001b[0m \u001b[1;33m\u001b[0m\u001b[0m\n\u001b[0;32m    240\u001b[0m         \u001b[1;32mif\u001b[0m \u001b[0misinstance\u001b[0m\u001b[1;33m(\u001b[0m\u001b[0mfunc\u001b[0m\u001b[1;33m,\u001b[0m \u001b[0mstr\u001b[0m\u001b[1;33m)\u001b[0m\u001b[1;33m:\u001b[0m\u001b[1;33m\u001b[0m\u001b[1;33m\u001b[0m\u001b[0m\n\u001b[1;32m--> 241\u001b[1;33m             \u001b[1;32mreturn\u001b[0m \u001b[0mgetattr\u001b[0m\u001b[1;33m(\u001b[0m\u001b[0mself\u001b[0m\u001b[1;33m,\u001b[0m \u001b[0mfunc\u001b[0m\u001b[1;33m)\u001b[0m\u001b[1;33m(\u001b[0m\u001b[1;33m*\u001b[0m\u001b[0margs\u001b[0m\u001b[1;33m,\u001b[0m \u001b[1;33m**\u001b[0m\u001b[0mkwargs\u001b[0m\u001b[1;33m)\u001b[0m\u001b[1;33m\u001b[0m\u001b[1;33m\u001b[0m\u001b[0m\n\u001b[0m\u001b[0;32m    242\u001b[0m \u001b[1;33m\u001b[0m\u001b[0m\n\u001b[0;32m    243\u001b[0m         \u001b[1;32melif\u001b[0m \u001b[0misinstance\u001b[0m\u001b[1;33m(\u001b[0m\u001b[0mfunc\u001b[0m\u001b[1;33m,\u001b[0m \u001b[0mabc\u001b[0m\u001b[1;33m.\u001b[0m\u001b[0mIterable\u001b[0m\u001b[1;33m)\u001b[0m\u001b[1;33m:\u001b[0m\u001b[1;33m\u001b[0m\u001b[1;33m\u001b[0m\u001b[0m\n",
      "\u001b[1;32mC:\\ProgramData\\Anaconda3\\lib\\site-packages\\pandas\\core\\groupby\\groupby.py\u001b[0m in \u001b[0;36mmin\u001b[1;34m(self, numeric_only, min_count)\u001b[0m\n\u001b[0;32m   1667\u001b[0m     \u001b[1;33m@\u001b[0m\u001b[0mdoc\u001b[0m\u001b[1;33m(\u001b[0m\u001b[0m_groupby_agg_method_template\u001b[0m\u001b[1;33m,\u001b[0m \u001b[0mfname\u001b[0m\u001b[1;33m=\u001b[0m\u001b[1;34m\"min\"\u001b[0m\u001b[1;33m,\u001b[0m \u001b[0mno\u001b[0m\u001b[1;33m=\u001b[0m\u001b[1;32mFalse\u001b[0m\u001b[1;33m,\u001b[0m \u001b[0mmc\u001b[0m\u001b[1;33m=\u001b[0m\u001b[1;33m-\u001b[0m\u001b[1;36m1\u001b[0m\u001b[1;33m)\u001b[0m\u001b[1;33m\u001b[0m\u001b[1;33m\u001b[0m\u001b[0m\n\u001b[0;32m   1668\u001b[0m     \u001b[1;32mdef\u001b[0m \u001b[0mmin\u001b[0m\u001b[1;33m(\u001b[0m\u001b[0mself\u001b[0m\u001b[1;33m,\u001b[0m \u001b[0mnumeric_only\u001b[0m\u001b[1;33m:\u001b[0m \u001b[0mbool\u001b[0m \u001b[1;33m=\u001b[0m \u001b[1;32mFalse\u001b[0m\u001b[1;33m,\u001b[0m \u001b[0mmin_count\u001b[0m\u001b[1;33m:\u001b[0m \u001b[0mint\u001b[0m \u001b[1;33m=\u001b[0m \u001b[1;33m-\u001b[0m\u001b[1;36m1\u001b[0m\u001b[1;33m)\u001b[0m\u001b[1;33m:\u001b[0m\u001b[1;33m\u001b[0m\u001b[1;33m\u001b[0m\u001b[0m\n\u001b[1;32m-> 1669\u001b[1;33m         return self._agg_general(\n\u001b[0m\u001b[0;32m   1670\u001b[0m             \u001b[0mnumeric_only\u001b[0m\u001b[1;33m=\u001b[0m\u001b[0mnumeric_only\u001b[0m\u001b[1;33m,\u001b[0m \u001b[0mmin_count\u001b[0m\u001b[1;33m=\u001b[0m\u001b[0mmin_count\u001b[0m\u001b[1;33m,\u001b[0m \u001b[0malias\u001b[0m\u001b[1;33m=\u001b[0m\u001b[1;34m\"min\"\u001b[0m\u001b[1;33m,\u001b[0m \u001b[0mnpfunc\u001b[0m\u001b[1;33m=\u001b[0m\u001b[0mnp\u001b[0m\u001b[1;33m.\u001b[0m\u001b[0mmin\u001b[0m\u001b[1;33m\u001b[0m\u001b[1;33m\u001b[0m\u001b[0m\n\u001b[0;32m   1671\u001b[0m         )\n",
      "\u001b[1;32mC:\\ProgramData\\Anaconda3\\lib\\site-packages\\pandas\\core\\groupby\\groupby.py\u001b[0m in \u001b[0;36m_agg_general\u001b[1;34m(self, numeric_only, min_count, alias, npfunc)\u001b[0m\n\u001b[0;32m   1042\u001b[0m             \u001b[1;31m# apply a non-cython aggregation\u001b[0m\u001b[1;33m\u001b[0m\u001b[1;33m\u001b[0m\u001b[1;33m\u001b[0m\u001b[0m\n\u001b[0;32m   1043\u001b[0m             \u001b[1;32mif\u001b[0m \u001b[0mresult\u001b[0m \u001b[1;32mis\u001b[0m \u001b[1;32mNone\u001b[0m\u001b[1;33m:\u001b[0m\u001b[1;33m\u001b[0m\u001b[1;33m\u001b[0m\u001b[0m\n\u001b[1;32m-> 1044\u001b[1;33m                 \u001b[0mresult\u001b[0m \u001b[1;33m=\u001b[0m \u001b[0mself\u001b[0m\u001b[1;33m.\u001b[0m\u001b[0maggregate\u001b[0m\u001b[1;33m(\u001b[0m\u001b[1;32mlambda\u001b[0m \u001b[0mx\u001b[0m\u001b[1;33m:\u001b[0m \u001b[0mnpfunc\u001b[0m\u001b[1;33m(\u001b[0m\u001b[0mx\u001b[0m\u001b[1;33m,\u001b[0m \u001b[0maxis\u001b[0m\u001b[1;33m=\u001b[0m\u001b[0mself\u001b[0m\u001b[1;33m.\u001b[0m\u001b[0maxis\u001b[0m\u001b[1;33m)\u001b[0m\u001b[1;33m)\u001b[0m\u001b[1;33m\u001b[0m\u001b[1;33m\u001b[0m\u001b[0m\n\u001b[0m\u001b[0;32m   1045\u001b[0m             \u001b[1;32mreturn\u001b[0m \u001b[0mresult\u001b[0m\u001b[1;33m.\u001b[0m\u001b[0m__finalize__\u001b[0m\u001b[1;33m(\u001b[0m\u001b[0mself\u001b[0m\u001b[1;33m.\u001b[0m\u001b[0mobj\u001b[0m\u001b[1;33m,\u001b[0m \u001b[0mmethod\u001b[0m\u001b[1;33m=\u001b[0m\u001b[1;34m\"groupby\"\u001b[0m\u001b[1;33m)\u001b[0m\u001b[1;33m\u001b[0m\u001b[1;33m\u001b[0m\u001b[0m\n\u001b[0;32m   1046\u001b[0m \u001b[1;33m\u001b[0m\u001b[0m\n",
      "\u001b[1;32mC:\\ProgramData\\Anaconda3\\lib\\site-packages\\pandas\\core\\groupby\\generic.py\u001b[0m in \u001b[0;36maggregate\u001b[1;34m(self, func, engine, engine_kwargs, *args, **kwargs)\u001b[0m\n\u001b[0;32m    257\u001b[0m \u001b[1;33m\u001b[0m\u001b[0m\n\u001b[0;32m    258\u001b[0m             \u001b[1;32mtry\u001b[0m\u001b[1;33m:\u001b[0m\u001b[1;33m\u001b[0m\u001b[1;33m\u001b[0m\u001b[0m\n\u001b[1;32m--> 259\u001b[1;33m                 \u001b[1;32mreturn\u001b[0m \u001b[0mself\u001b[0m\u001b[1;33m.\u001b[0m\u001b[0m_python_agg_general\u001b[0m\u001b[1;33m(\u001b[0m\u001b[0mfunc\u001b[0m\u001b[1;33m,\u001b[0m \u001b[1;33m*\u001b[0m\u001b[0margs\u001b[0m\u001b[1;33m,\u001b[0m \u001b[1;33m**\u001b[0m\u001b[0mkwargs\u001b[0m\u001b[1;33m)\u001b[0m\u001b[1;33m\u001b[0m\u001b[1;33m\u001b[0m\u001b[0m\n\u001b[0m\u001b[0;32m    260\u001b[0m             \u001b[1;32mexcept\u001b[0m \u001b[1;33m(\u001b[0m\u001b[0mValueError\u001b[0m\u001b[1;33m,\u001b[0m \u001b[0mKeyError\u001b[0m\u001b[1;33m)\u001b[0m\u001b[1;33m:\u001b[0m\u001b[1;33m\u001b[0m\u001b[1;33m\u001b[0m\u001b[0m\n\u001b[0;32m    261\u001b[0m                 \u001b[1;31m# TODO: KeyError is raised in _python_agg_general,\u001b[0m\u001b[1;33m\u001b[0m\u001b[1;33m\u001b[0m\u001b[1;33m\u001b[0m\u001b[0m\n",
      "\u001b[1;32mC:\\ProgramData\\Anaconda3\\lib\\site-packages\\pandas\\core\\groupby\\groupby.py\u001b[0m in \u001b[0;36m_python_agg_general\u001b[1;34m(self, func, *args, **kwargs)\u001b[0m\n\u001b[0;32m   1194\u001b[0m \u001b[1;33m\u001b[0m\u001b[0m\n\u001b[0;32m   1195\u001b[0m         \u001b[1;32mif\u001b[0m \u001b[1;32mnot\u001b[0m \u001b[0moutput\u001b[0m\u001b[1;33m:\u001b[0m\u001b[1;33m\u001b[0m\u001b[1;33m\u001b[0m\u001b[0m\n\u001b[1;32m-> 1196\u001b[1;33m             \u001b[1;32mreturn\u001b[0m \u001b[0mself\u001b[0m\u001b[1;33m.\u001b[0m\u001b[0m_python_apply_general\u001b[0m\u001b[1;33m(\u001b[0m\u001b[0mf\u001b[0m\u001b[1;33m,\u001b[0m \u001b[0mself\u001b[0m\u001b[1;33m.\u001b[0m\u001b[0m_selected_obj\u001b[0m\u001b[1;33m)\u001b[0m\u001b[1;33m\u001b[0m\u001b[1;33m\u001b[0m\u001b[0m\n\u001b[0m\u001b[0;32m   1197\u001b[0m \u001b[1;33m\u001b[0m\u001b[0m\n\u001b[0;32m   1198\u001b[0m         \u001b[1;32mreturn\u001b[0m \u001b[0mself\u001b[0m\u001b[1;33m.\u001b[0m\u001b[0m_wrap_aggregated_output\u001b[0m\u001b[1;33m(\u001b[0m\u001b[0moutput\u001b[0m\u001b[1;33m,\u001b[0m \u001b[0mindex\u001b[0m\u001b[1;33m=\u001b[0m\u001b[0mself\u001b[0m\u001b[1;33m.\u001b[0m\u001b[0mgrouper\u001b[0m\u001b[1;33m.\u001b[0m\u001b[0mresult_index\u001b[0m\u001b[1;33m)\u001b[0m\u001b[1;33m\u001b[0m\u001b[1;33m\u001b[0m\u001b[0m\n",
      "\u001b[1;32mC:\\ProgramData\\Anaconda3\\lib\\site-packages\\pandas\\core\\groupby\\groupby.py\u001b[0m in \u001b[0;36m_python_apply_general\u001b[1;34m(self, f, data)\u001b[0m\n\u001b[0;32m    926\u001b[0m             \u001b[0mdata\u001b[0m \u001b[0mafter\u001b[0m \u001b[0mapplying\u001b[0m \u001b[0mf\u001b[0m\u001b[1;33m\u001b[0m\u001b[1;33m\u001b[0m\u001b[0m\n\u001b[0;32m    927\u001b[0m         \"\"\"\n\u001b[1;32m--> 928\u001b[1;33m         \u001b[0mkeys\u001b[0m\u001b[1;33m,\u001b[0m \u001b[0mvalues\u001b[0m\u001b[1;33m,\u001b[0m \u001b[0mmutated\u001b[0m \u001b[1;33m=\u001b[0m \u001b[0mself\u001b[0m\u001b[1;33m.\u001b[0m\u001b[0mgrouper\u001b[0m\u001b[1;33m.\u001b[0m\u001b[0mapply\u001b[0m\u001b[1;33m(\u001b[0m\u001b[0mf\u001b[0m\u001b[1;33m,\u001b[0m \u001b[0mdata\u001b[0m\u001b[1;33m,\u001b[0m \u001b[0mself\u001b[0m\u001b[1;33m.\u001b[0m\u001b[0maxis\u001b[0m\u001b[1;33m)\u001b[0m\u001b[1;33m\u001b[0m\u001b[1;33m\u001b[0m\u001b[0m\n\u001b[0m\u001b[0;32m    929\u001b[0m \u001b[1;33m\u001b[0m\u001b[0m\n\u001b[0;32m    930\u001b[0m         return self._wrap_applied_output(\n",
      "\u001b[1;32mC:\\ProgramData\\Anaconda3\\lib\\site-packages\\pandas\\core\\groupby\\ops.py\u001b[0m in \u001b[0;36mapply\u001b[1;34m(self, f, data, axis)\u001b[0m\n\u001b[0;32m    236\u001b[0m             \u001b[1;31m# group might be modified\u001b[0m\u001b[1;33m\u001b[0m\u001b[1;33m\u001b[0m\u001b[1;33m\u001b[0m\u001b[0m\n\u001b[0;32m    237\u001b[0m             \u001b[0mgroup_axes\u001b[0m \u001b[1;33m=\u001b[0m \u001b[0mgroup\u001b[0m\u001b[1;33m.\u001b[0m\u001b[0maxes\u001b[0m\u001b[1;33m\u001b[0m\u001b[1;33m\u001b[0m\u001b[0m\n\u001b[1;32m--> 238\u001b[1;33m             \u001b[0mres\u001b[0m \u001b[1;33m=\u001b[0m \u001b[0mf\u001b[0m\u001b[1;33m(\u001b[0m\u001b[0mgroup\u001b[0m\u001b[1;33m)\u001b[0m\u001b[1;33m\u001b[0m\u001b[1;33m\u001b[0m\u001b[0m\n\u001b[0m\u001b[0;32m    239\u001b[0m             \u001b[1;32mif\u001b[0m \u001b[1;32mnot\u001b[0m \u001b[0m_is_indexed_like\u001b[0m\u001b[1;33m(\u001b[0m\u001b[0mres\u001b[0m\u001b[1;33m,\u001b[0m \u001b[0mgroup_axes\u001b[0m\u001b[1;33m,\u001b[0m \u001b[0maxis\u001b[0m\u001b[1;33m)\u001b[0m\u001b[1;33m:\u001b[0m\u001b[1;33m\u001b[0m\u001b[1;33m\u001b[0m\u001b[0m\n\u001b[0;32m    240\u001b[0m                 \u001b[0mmutated\u001b[0m \u001b[1;33m=\u001b[0m \u001b[1;32mTrue\u001b[0m\u001b[1;33m\u001b[0m\u001b[1;33m\u001b[0m\u001b[0m\n",
      "\u001b[1;32mC:\\ProgramData\\Anaconda3\\lib\\site-packages\\pandas\\core\\groupby\\groupby.py\u001b[0m in \u001b[0;36m<lambda>\u001b[1;34m(x)\u001b[0m\n\u001b[0;32m   1158\u001b[0m     \u001b[1;32mdef\u001b[0m \u001b[0m_python_agg_general\u001b[0m\u001b[1;33m(\u001b[0m\u001b[0mself\u001b[0m\u001b[1;33m,\u001b[0m \u001b[0mfunc\u001b[0m\u001b[1;33m,\u001b[0m \u001b[1;33m*\u001b[0m\u001b[0margs\u001b[0m\u001b[1;33m,\u001b[0m \u001b[1;33m**\u001b[0m\u001b[0mkwargs\u001b[0m\u001b[1;33m)\u001b[0m\u001b[1;33m:\u001b[0m\u001b[1;33m\u001b[0m\u001b[1;33m\u001b[0m\u001b[0m\n\u001b[0;32m   1159\u001b[0m         \u001b[0mfunc\u001b[0m \u001b[1;33m=\u001b[0m \u001b[0mself\u001b[0m\u001b[1;33m.\u001b[0m\u001b[0m_is_builtin_func\u001b[0m\u001b[1;33m(\u001b[0m\u001b[0mfunc\u001b[0m\u001b[1;33m)\u001b[0m\u001b[1;33m\u001b[0m\u001b[1;33m\u001b[0m\u001b[0m\n\u001b[1;32m-> 1160\u001b[1;33m         \u001b[0mf\u001b[0m \u001b[1;33m=\u001b[0m \u001b[1;32mlambda\u001b[0m \u001b[0mx\u001b[0m\u001b[1;33m:\u001b[0m \u001b[0mfunc\u001b[0m\u001b[1;33m(\u001b[0m\u001b[0mx\u001b[0m\u001b[1;33m,\u001b[0m \u001b[1;33m*\u001b[0m\u001b[0margs\u001b[0m\u001b[1;33m,\u001b[0m \u001b[1;33m**\u001b[0m\u001b[0mkwargs\u001b[0m\u001b[1;33m)\u001b[0m\u001b[1;33m\u001b[0m\u001b[1;33m\u001b[0m\u001b[0m\n\u001b[0m\u001b[0;32m   1161\u001b[0m \u001b[1;33m\u001b[0m\u001b[0m\n\u001b[0;32m   1162\u001b[0m         \u001b[1;31m# iterate through \"columns\" ex exclusions to populate output dict\u001b[0m\u001b[1;33m\u001b[0m\u001b[1;33m\u001b[0m\u001b[1;33m\u001b[0m\u001b[0m\n",
      "\u001b[1;32mC:\\ProgramData\\Anaconda3\\lib\\site-packages\\pandas\\core\\groupby\\groupby.py\u001b[0m in \u001b[0;36m<lambda>\u001b[1;34m(x)\u001b[0m\n\u001b[0;32m   1042\u001b[0m             \u001b[1;31m# apply a non-cython aggregation\u001b[0m\u001b[1;33m\u001b[0m\u001b[1;33m\u001b[0m\u001b[1;33m\u001b[0m\u001b[0m\n\u001b[0;32m   1043\u001b[0m             \u001b[1;32mif\u001b[0m \u001b[0mresult\u001b[0m \u001b[1;32mis\u001b[0m \u001b[1;32mNone\u001b[0m\u001b[1;33m:\u001b[0m\u001b[1;33m\u001b[0m\u001b[1;33m\u001b[0m\u001b[0m\n\u001b[1;32m-> 1044\u001b[1;33m                 \u001b[0mresult\u001b[0m \u001b[1;33m=\u001b[0m \u001b[0mself\u001b[0m\u001b[1;33m.\u001b[0m\u001b[0maggregate\u001b[0m\u001b[1;33m(\u001b[0m\u001b[1;32mlambda\u001b[0m \u001b[0mx\u001b[0m\u001b[1;33m:\u001b[0m \u001b[0mnpfunc\u001b[0m\u001b[1;33m(\u001b[0m\u001b[0mx\u001b[0m\u001b[1;33m,\u001b[0m \u001b[0maxis\u001b[0m\u001b[1;33m=\u001b[0m\u001b[0mself\u001b[0m\u001b[1;33m.\u001b[0m\u001b[0maxis\u001b[0m\u001b[1;33m)\u001b[0m\u001b[1;33m)\u001b[0m\u001b[1;33m\u001b[0m\u001b[1;33m\u001b[0m\u001b[0m\n\u001b[0m\u001b[0;32m   1045\u001b[0m             \u001b[1;32mreturn\u001b[0m \u001b[0mresult\u001b[0m\u001b[1;33m.\u001b[0m\u001b[0m__finalize__\u001b[0m\u001b[1;33m(\u001b[0m\u001b[0mself\u001b[0m\u001b[1;33m.\u001b[0m\u001b[0mobj\u001b[0m\u001b[1;33m,\u001b[0m \u001b[0mmethod\u001b[0m\u001b[1;33m=\u001b[0m\u001b[1;34m\"groupby\"\u001b[0m\u001b[1;33m)\u001b[0m\u001b[1;33m\u001b[0m\u001b[1;33m\u001b[0m\u001b[0m\n\u001b[0;32m   1046\u001b[0m \u001b[1;33m\u001b[0m\u001b[0m\n",
      "\u001b[1;32m<__array_function__ internals>\u001b[0m in \u001b[0;36mamin\u001b[1;34m(*args, **kwargs)\u001b[0m\n",
      "\u001b[1;32mC:\\ProgramData\\Anaconda3\\lib\\site-packages\\numpy\\core\\fromnumeric.py\u001b[0m in \u001b[0;36mamin\u001b[1;34m(a, axis, out, keepdims, initial, where)\u001b[0m\n\u001b[0;32m   2856\u001b[0m     \u001b[1;36m6\u001b[0m\u001b[1;33m\u001b[0m\u001b[1;33m\u001b[0m\u001b[0m\n\u001b[0;32m   2857\u001b[0m     \"\"\"\n\u001b[1;32m-> 2858\u001b[1;33m     return _wrapreduction(a, np.minimum, 'min', axis, None, out,\n\u001b[0m\u001b[0;32m   2859\u001b[0m                           keepdims=keepdims, initial=initial, where=where)\n\u001b[0;32m   2860\u001b[0m \u001b[1;33m\u001b[0m\u001b[0m\n",
      "\u001b[1;32mC:\\ProgramData\\Anaconda3\\lib\\site-packages\\numpy\\core\\fromnumeric.py\u001b[0m in \u001b[0;36m_wrapreduction\u001b[1;34m(obj, ufunc, method, axis, dtype, out, **kwargs)\u001b[0m\n\u001b[0;32m     83\u001b[0m                 \u001b[1;32mreturn\u001b[0m \u001b[0mreduction\u001b[0m\u001b[1;33m(\u001b[0m\u001b[0maxis\u001b[0m\u001b[1;33m=\u001b[0m\u001b[0maxis\u001b[0m\u001b[1;33m,\u001b[0m \u001b[0mdtype\u001b[0m\u001b[1;33m=\u001b[0m\u001b[0mdtype\u001b[0m\u001b[1;33m,\u001b[0m \u001b[0mout\u001b[0m\u001b[1;33m=\u001b[0m\u001b[0mout\u001b[0m\u001b[1;33m,\u001b[0m \u001b[1;33m**\u001b[0m\u001b[0mpasskwargs\u001b[0m\u001b[1;33m)\u001b[0m\u001b[1;33m\u001b[0m\u001b[1;33m\u001b[0m\u001b[0m\n\u001b[0;32m     84\u001b[0m             \u001b[1;32melse\u001b[0m\u001b[1;33m:\u001b[0m\u001b[1;33m\u001b[0m\u001b[1;33m\u001b[0m\u001b[0m\n\u001b[1;32m---> 85\u001b[1;33m                 \u001b[1;32mreturn\u001b[0m \u001b[0mreduction\u001b[0m\u001b[1;33m(\u001b[0m\u001b[0maxis\u001b[0m\u001b[1;33m=\u001b[0m\u001b[0maxis\u001b[0m\u001b[1;33m,\u001b[0m \u001b[0mout\u001b[0m\u001b[1;33m=\u001b[0m\u001b[0mout\u001b[0m\u001b[1;33m,\u001b[0m \u001b[1;33m**\u001b[0m\u001b[0mpasskwargs\u001b[0m\u001b[1;33m)\u001b[0m\u001b[1;33m\u001b[0m\u001b[1;33m\u001b[0m\u001b[0m\n\u001b[0m\u001b[0;32m     86\u001b[0m \u001b[1;33m\u001b[0m\u001b[0m\n\u001b[0;32m     87\u001b[0m     \u001b[1;32mreturn\u001b[0m \u001b[0mufunc\u001b[0m\u001b[1;33m.\u001b[0m\u001b[0mreduce\u001b[0m\u001b[1;33m(\u001b[0m\u001b[0mobj\u001b[0m\u001b[1;33m,\u001b[0m \u001b[0maxis\u001b[0m\u001b[1;33m,\u001b[0m \u001b[0mdtype\u001b[0m\u001b[1;33m,\u001b[0m \u001b[0mout\u001b[0m\u001b[1;33m,\u001b[0m \u001b[1;33m**\u001b[0m\u001b[0mpasskwargs\u001b[0m\u001b[1;33m)\u001b[0m\u001b[1;33m\u001b[0m\u001b[1;33m\u001b[0m\u001b[0m\n",
      "\u001b[1;32mC:\\ProgramData\\Anaconda3\\lib\\site-packages\\pandas\\core\\generic.py\u001b[0m in \u001b[0;36mmin\u001b[1;34m(self, axis, skipna, level, numeric_only, **kwargs)\u001b[0m\n\u001b[0;32m  11211\u001b[0m         )\n\u001b[0;32m  11212\u001b[0m         \u001b[1;32mdef\u001b[0m \u001b[0mmin\u001b[0m\u001b[1;33m(\u001b[0m\u001b[0mself\u001b[0m\u001b[1;33m,\u001b[0m \u001b[0maxis\u001b[0m\u001b[1;33m=\u001b[0m\u001b[1;32mNone\u001b[0m\u001b[1;33m,\u001b[0m \u001b[0mskipna\u001b[0m\u001b[1;33m=\u001b[0m\u001b[1;32mNone\u001b[0m\u001b[1;33m,\u001b[0m \u001b[0mlevel\u001b[0m\u001b[1;33m=\u001b[0m\u001b[1;32mNone\u001b[0m\u001b[1;33m,\u001b[0m \u001b[0mnumeric_only\u001b[0m\u001b[1;33m=\u001b[0m\u001b[1;32mNone\u001b[0m\u001b[1;33m,\u001b[0m \u001b[1;33m**\u001b[0m\u001b[0mkwargs\u001b[0m\u001b[1;33m)\u001b[0m\u001b[1;33m:\u001b[0m\u001b[1;33m\u001b[0m\u001b[1;33m\u001b[0m\u001b[0m\n\u001b[1;32m> 11213\u001b[1;33m             \u001b[1;32mreturn\u001b[0m \u001b[0mNDFrame\u001b[0m\u001b[1;33m.\u001b[0m\u001b[0mmin\u001b[0m\u001b[1;33m(\u001b[0m\u001b[0mself\u001b[0m\u001b[1;33m,\u001b[0m \u001b[0maxis\u001b[0m\u001b[1;33m,\u001b[0m \u001b[0mskipna\u001b[0m\u001b[1;33m,\u001b[0m \u001b[0mlevel\u001b[0m\u001b[1;33m,\u001b[0m \u001b[0mnumeric_only\u001b[0m\u001b[1;33m,\u001b[0m \u001b[1;33m**\u001b[0m\u001b[0mkwargs\u001b[0m\u001b[1;33m)\u001b[0m\u001b[1;33m\u001b[0m\u001b[1;33m\u001b[0m\u001b[0m\n\u001b[0m\u001b[0;32m  11214\u001b[0m \u001b[1;33m\u001b[0m\u001b[0m\n\u001b[0;32m  11215\u001b[0m         \u001b[1;31m# pandas\\core\\generic.py:11009: error: Cannot assign to a method\u001b[0m\u001b[1;33m\u001b[0m\u001b[1;33m\u001b[0m\u001b[1;33m\u001b[0m\u001b[0m\n",
      "\u001b[1;32mC:\\ProgramData\\Anaconda3\\lib\\site-packages\\pandas\\core\\generic.py\u001b[0m in \u001b[0;36mmin\u001b[1;34m(self, axis, skipna, level, numeric_only, **kwargs)\u001b[0m\n\u001b[0;32m  10714\u001b[0m \u001b[1;33m\u001b[0m\u001b[0m\n\u001b[0;32m  10715\u001b[0m     \u001b[1;32mdef\u001b[0m \u001b[0mmin\u001b[0m\u001b[1;33m(\u001b[0m\u001b[0mself\u001b[0m\u001b[1;33m,\u001b[0m \u001b[0maxis\u001b[0m\u001b[1;33m=\u001b[0m\u001b[1;32mNone\u001b[0m\u001b[1;33m,\u001b[0m \u001b[0mskipna\u001b[0m\u001b[1;33m=\u001b[0m\u001b[1;32mNone\u001b[0m\u001b[1;33m,\u001b[0m \u001b[0mlevel\u001b[0m\u001b[1;33m=\u001b[0m\u001b[1;32mNone\u001b[0m\u001b[1;33m,\u001b[0m \u001b[0mnumeric_only\u001b[0m\u001b[1;33m=\u001b[0m\u001b[1;32mNone\u001b[0m\u001b[1;33m,\u001b[0m \u001b[1;33m**\u001b[0m\u001b[0mkwargs\u001b[0m\u001b[1;33m)\u001b[0m\u001b[1;33m:\u001b[0m\u001b[1;33m\u001b[0m\u001b[1;33m\u001b[0m\u001b[0m\n\u001b[1;32m> 10716\u001b[1;33m         return self._stat_function(\n\u001b[0m\u001b[0;32m  10717\u001b[0m             \u001b[1;34m\"min\"\u001b[0m\u001b[1;33m,\u001b[0m \u001b[0mnanops\u001b[0m\u001b[1;33m.\u001b[0m\u001b[0mnanmin\u001b[0m\u001b[1;33m,\u001b[0m \u001b[0maxis\u001b[0m\u001b[1;33m,\u001b[0m \u001b[0mskipna\u001b[0m\u001b[1;33m,\u001b[0m \u001b[0mlevel\u001b[0m\u001b[1;33m,\u001b[0m \u001b[0mnumeric_only\u001b[0m\u001b[1;33m,\u001b[0m \u001b[1;33m**\u001b[0m\u001b[0mkwargs\u001b[0m\u001b[1;33m\u001b[0m\u001b[1;33m\u001b[0m\u001b[0m\n\u001b[0;32m  10718\u001b[0m         )\n",
      "\u001b[1;32mC:\\ProgramData\\Anaconda3\\lib\\site-packages\\pandas\\core\\generic.py\u001b[0m in \u001b[0;36m_stat_function\u001b[1;34m(self, name, func, axis, skipna, level, numeric_only, **kwargs)\u001b[0m\n\u001b[0;32m  10709\u001b[0m         \u001b[1;32mif\u001b[0m \u001b[0mlevel\u001b[0m \u001b[1;32mis\u001b[0m \u001b[1;32mnot\u001b[0m \u001b[1;32mNone\u001b[0m\u001b[1;33m:\u001b[0m\u001b[1;33m\u001b[0m\u001b[1;33m\u001b[0m\u001b[0m\n\u001b[0;32m  10710\u001b[0m             \u001b[1;32mreturn\u001b[0m \u001b[0mself\u001b[0m\u001b[1;33m.\u001b[0m\u001b[0m_agg_by_level\u001b[0m\u001b[1;33m(\u001b[0m\u001b[0mname\u001b[0m\u001b[1;33m,\u001b[0m \u001b[0maxis\u001b[0m\u001b[1;33m=\u001b[0m\u001b[0maxis\u001b[0m\u001b[1;33m,\u001b[0m \u001b[0mlevel\u001b[0m\u001b[1;33m=\u001b[0m\u001b[0mlevel\u001b[0m\u001b[1;33m,\u001b[0m \u001b[0mskipna\u001b[0m\u001b[1;33m=\u001b[0m\u001b[0mskipna\u001b[0m\u001b[1;33m)\u001b[0m\u001b[1;33m\u001b[0m\u001b[1;33m\u001b[0m\u001b[0m\n\u001b[1;32m> 10711\u001b[1;33m         return self._reduce(\n\u001b[0m\u001b[0;32m  10712\u001b[0m             \u001b[0mfunc\u001b[0m\u001b[1;33m,\u001b[0m \u001b[0mname\u001b[0m\u001b[1;33m=\u001b[0m\u001b[0mname\u001b[0m\u001b[1;33m,\u001b[0m \u001b[0maxis\u001b[0m\u001b[1;33m=\u001b[0m\u001b[0maxis\u001b[0m\u001b[1;33m,\u001b[0m \u001b[0mskipna\u001b[0m\u001b[1;33m=\u001b[0m\u001b[0mskipna\u001b[0m\u001b[1;33m,\u001b[0m \u001b[0mnumeric_only\u001b[0m\u001b[1;33m=\u001b[0m\u001b[0mnumeric_only\u001b[0m\u001b[1;33m\u001b[0m\u001b[1;33m\u001b[0m\u001b[0m\n\u001b[0;32m  10713\u001b[0m         )\n",
      "\u001b[1;32mC:\\ProgramData\\Anaconda3\\lib\\site-packages\\pandas\\core\\series.py\u001b[0m in \u001b[0;36m_reduce\u001b[1;34m(self, op, name, axis, skipna, numeric_only, filter_type, **kwds)\u001b[0m\n\u001b[0;32m   4180\u001b[0m                 )\n\u001b[0;32m   4181\u001b[0m             \u001b[1;32mwith\u001b[0m \u001b[0mnp\u001b[0m\u001b[1;33m.\u001b[0m\u001b[0merrstate\u001b[0m\u001b[1;33m(\u001b[0m\u001b[0mall\u001b[0m\u001b[1;33m=\u001b[0m\u001b[1;34m\"ignore\"\u001b[0m\u001b[1;33m)\u001b[0m\u001b[1;33m:\u001b[0m\u001b[1;33m\u001b[0m\u001b[1;33m\u001b[0m\u001b[0m\n\u001b[1;32m-> 4182\u001b[1;33m                 \u001b[1;32mreturn\u001b[0m \u001b[0mop\u001b[0m\u001b[1;33m(\u001b[0m\u001b[0mdelegate\u001b[0m\u001b[1;33m,\u001b[0m \u001b[0mskipna\u001b[0m\u001b[1;33m=\u001b[0m\u001b[0mskipna\u001b[0m\u001b[1;33m,\u001b[0m \u001b[1;33m**\u001b[0m\u001b[0mkwds\u001b[0m\u001b[1;33m)\u001b[0m\u001b[1;33m\u001b[0m\u001b[1;33m\u001b[0m\u001b[0m\n\u001b[0m\u001b[0;32m   4183\u001b[0m \u001b[1;33m\u001b[0m\u001b[0m\n\u001b[0;32m   4184\u001b[0m     \u001b[1;32mdef\u001b[0m \u001b[0m_reindex_indexer\u001b[0m\u001b[1;33m(\u001b[0m\u001b[0mself\u001b[0m\u001b[1;33m,\u001b[0m \u001b[0mnew_index\u001b[0m\u001b[1;33m,\u001b[0m \u001b[0mindexer\u001b[0m\u001b[1;33m,\u001b[0m \u001b[0mcopy\u001b[0m\u001b[1;33m)\u001b[0m\u001b[1;33m:\u001b[0m\u001b[1;33m\u001b[0m\u001b[1;33m\u001b[0m\u001b[0m\n",
      "\u001b[1;32mC:\\ProgramData\\Anaconda3\\lib\\site-packages\\pandas\\core\\nanops.py\u001b[0m in \u001b[0;36mf\u001b[1;34m(values, axis, skipna, **kwds)\u001b[0m\n\u001b[0;32m    133\u001b[0m                     \u001b[0mresult\u001b[0m \u001b[1;33m=\u001b[0m \u001b[0malt\u001b[0m\u001b[1;33m(\u001b[0m\u001b[0mvalues\u001b[0m\u001b[1;33m,\u001b[0m \u001b[0maxis\u001b[0m\u001b[1;33m=\u001b[0m\u001b[0maxis\u001b[0m\u001b[1;33m,\u001b[0m \u001b[0mskipna\u001b[0m\u001b[1;33m=\u001b[0m\u001b[0mskipna\u001b[0m\u001b[1;33m,\u001b[0m \u001b[1;33m**\u001b[0m\u001b[0mkwds\u001b[0m\u001b[1;33m)\u001b[0m\u001b[1;33m\u001b[0m\u001b[1;33m\u001b[0m\u001b[0m\n\u001b[0;32m    134\u001b[0m             \u001b[1;32melse\u001b[0m\u001b[1;33m:\u001b[0m\u001b[1;33m\u001b[0m\u001b[1;33m\u001b[0m\u001b[0m\n\u001b[1;32m--> 135\u001b[1;33m                 \u001b[0mresult\u001b[0m \u001b[1;33m=\u001b[0m \u001b[0malt\u001b[0m\u001b[1;33m(\u001b[0m\u001b[0mvalues\u001b[0m\u001b[1;33m,\u001b[0m \u001b[0maxis\u001b[0m\u001b[1;33m=\u001b[0m\u001b[0maxis\u001b[0m\u001b[1;33m,\u001b[0m \u001b[0mskipna\u001b[0m\u001b[1;33m=\u001b[0m\u001b[0mskipna\u001b[0m\u001b[1;33m,\u001b[0m \u001b[1;33m**\u001b[0m\u001b[0mkwds\u001b[0m\u001b[1;33m)\u001b[0m\u001b[1;33m\u001b[0m\u001b[1;33m\u001b[0m\u001b[0m\n\u001b[0m\u001b[0;32m    136\u001b[0m \u001b[1;33m\u001b[0m\u001b[0m\n\u001b[0;32m    137\u001b[0m             \u001b[1;32mreturn\u001b[0m \u001b[0mresult\u001b[0m\u001b[1;33m\u001b[0m\u001b[1;33m\u001b[0m\u001b[0m\n",
      "\u001b[1;32mC:\\ProgramData\\Anaconda3\\lib\\site-packages\\pandas\\core\\nanops.py\u001b[0m in \u001b[0;36mnew_func\u001b[1;34m(values, axis, skipna, mask, **kwargs)\u001b[0m\n\u001b[0;32m    392\u001b[0m             \u001b[0mmask\u001b[0m \u001b[1;33m=\u001b[0m \u001b[0misna\u001b[0m\u001b[1;33m(\u001b[0m\u001b[0mvalues\u001b[0m\u001b[1;33m)\u001b[0m\u001b[1;33m\u001b[0m\u001b[1;33m\u001b[0m\u001b[0m\n\u001b[0;32m    393\u001b[0m \u001b[1;33m\u001b[0m\u001b[0m\n\u001b[1;32m--> 394\u001b[1;33m         \u001b[0mresult\u001b[0m \u001b[1;33m=\u001b[0m \u001b[0mfunc\u001b[0m\u001b[1;33m(\u001b[0m\u001b[0mvalues\u001b[0m\u001b[1;33m,\u001b[0m \u001b[0maxis\u001b[0m\u001b[1;33m=\u001b[0m\u001b[0maxis\u001b[0m\u001b[1;33m,\u001b[0m \u001b[0mskipna\u001b[0m\u001b[1;33m=\u001b[0m\u001b[0mskipna\u001b[0m\u001b[1;33m,\u001b[0m \u001b[0mmask\u001b[0m\u001b[1;33m=\u001b[0m\u001b[0mmask\u001b[0m\u001b[1;33m,\u001b[0m \u001b[1;33m**\u001b[0m\u001b[0mkwargs\u001b[0m\u001b[1;33m)\u001b[0m\u001b[1;33m\u001b[0m\u001b[1;33m\u001b[0m\u001b[0m\n\u001b[0m\u001b[0;32m    395\u001b[0m \u001b[1;33m\u001b[0m\u001b[0m\n\u001b[0;32m    396\u001b[0m         \u001b[1;32mif\u001b[0m \u001b[0mdatetimelike\u001b[0m\u001b[1;33m:\u001b[0m\u001b[1;33m\u001b[0m\u001b[1;33m\u001b[0m\u001b[0m\n",
      "\u001b[1;32mC:\\ProgramData\\Anaconda3\\lib\\site-packages\\pandas\\core\\nanops.py\u001b[0m in \u001b[0;36mreduction\u001b[1;34m(values, axis, skipna, mask)\u001b[0m\n\u001b[0;32m    975\u001b[0m                 \u001b[0mresult\u001b[0m \u001b[1;33m=\u001b[0m \u001b[0mnp\u001b[0m\u001b[1;33m.\u001b[0m\u001b[0mnan\u001b[0m\u001b[1;33m\u001b[0m\u001b[1;33m\u001b[0m\u001b[0m\n\u001b[0;32m    976\u001b[0m         \u001b[1;32melse\u001b[0m\u001b[1;33m:\u001b[0m\u001b[1;33m\u001b[0m\u001b[1;33m\u001b[0m\u001b[0m\n\u001b[1;32m--> 977\u001b[1;33m             \u001b[0mresult\u001b[0m \u001b[1;33m=\u001b[0m \u001b[0mgetattr\u001b[0m\u001b[1;33m(\u001b[0m\u001b[0mvalues\u001b[0m\u001b[1;33m,\u001b[0m \u001b[0mmeth\u001b[0m\u001b[1;33m)\u001b[0m\u001b[1;33m(\u001b[0m\u001b[0maxis\u001b[0m\u001b[1;33m)\u001b[0m\u001b[1;33m\u001b[0m\u001b[1;33m\u001b[0m\u001b[0m\n\u001b[0m\u001b[0;32m    978\u001b[0m \u001b[1;33m\u001b[0m\u001b[0m\n\u001b[0;32m    979\u001b[0m         \u001b[0mresult\u001b[0m \u001b[1;33m=\u001b[0m \u001b[0m_maybe_null_out\u001b[0m\u001b[1;33m(\u001b[0m\u001b[0mresult\u001b[0m\u001b[1;33m,\u001b[0m \u001b[0maxis\u001b[0m\u001b[1;33m,\u001b[0m \u001b[0mmask\u001b[0m\u001b[1;33m,\u001b[0m \u001b[0mvalues\u001b[0m\u001b[1;33m.\u001b[0m\u001b[0mshape\u001b[0m\u001b[1;33m)\u001b[0m\u001b[1;33m\u001b[0m\u001b[1;33m\u001b[0m\u001b[0m\n",
      "\u001b[1;32mC:\\ProgramData\\Anaconda3\\lib\\site-packages\\numpy\\core\\_methods.py\u001b[0m in \u001b[0;36m_amin\u001b[1;34m(a, axis, out, keepdims, initial, where)\u001b[0m\n\u001b[0;32m     41\u001b[0m def _amin(a, axis=None, out=None, keepdims=False,\n\u001b[0;32m     42\u001b[0m           initial=_NoValue, where=True):\n\u001b[1;32m---> 43\u001b[1;33m     \u001b[1;32mreturn\u001b[0m \u001b[0mumr_minimum\u001b[0m\u001b[1;33m(\u001b[0m\u001b[0ma\u001b[0m\u001b[1;33m,\u001b[0m \u001b[0maxis\u001b[0m\u001b[1;33m,\u001b[0m \u001b[1;32mNone\u001b[0m\u001b[1;33m,\u001b[0m \u001b[0mout\u001b[0m\u001b[1;33m,\u001b[0m \u001b[0mkeepdims\u001b[0m\u001b[1;33m,\u001b[0m \u001b[0minitial\u001b[0m\u001b[1;33m,\u001b[0m \u001b[0mwhere\u001b[0m\u001b[1;33m)\u001b[0m\u001b[1;33m\u001b[0m\u001b[1;33m\u001b[0m\u001b[0m\n\u001b[0m\u001b[0;32m     44\u001b[0m \u001b[1;33m\u001b[0m\u001b[0m\n\u001b[0;32m     45\u001b[0m def _sum(a, axis=None, dtype=None, out=None, keepdims=False,\n",
      "\u001b[1;31mTypeError\u001b[0m: '<=' not supported between instances of 'float' and 'str'"
     ]
    }
   ],
   "source": [
    "responses.groupby(\"GenderSelect\")['CompensationAmount'].aggregate([\"min\",\"max\"])"
   ]
  },
  {
   "cell_type": "code",
   "execution_count": 112,
   "id": "e2fb16db-2cdd-4a99-bea6-cce559f9ec43",
   "metadata": {
    "collapsed": true,
    "jupyter": {
     "outputs_hidden": true
    },
    "tags": []
   },
   "outputs": [
    {
     "data": {
      "text/html": [
       "<div>\n",
       "<style scoped>\n",
       "    .dataframe tbody tr th:only-of-type {\n",
       "        vertical-align: middle;\n",
       "    }\n",
       "\n",
       "    .dataframe tbody tr th {\n",
       "        vertical-align: top;\n",
       "    }\n",
       "\n",
       "    .dataframe thead th {\n",
       "        text-align: right;\n",
       "    }\n",
       "</style>\n",
       "<table border=\"1\" class=\"dataframe\">\n",
       "  <thead>\n",
       "    <tr style=\"text-align: right;\">\n",
       "      <th></th>\n",
       "      <th>GenderSelect</th>\n",
       "      <th>Country</th>\n",
       "      <th>Age</th>\n",
       "      <th>EmploymentStatus</th>\n",
       "      <th>StudentStatus</th>\n",
       "      <th>LearningDataScience</th>\n",
       "      <th>CodeWriter</th>\n",
       "      <th>CareerSwitcher</th>\n",
       "      <th>CurrentJobTitleSelect</th>\n",
       "      <th>TitleFit</th>\n",
       "      <th>...</th>\n",
       "      <th>JobFactorExperienceLevel</th>\n",
       "      <th>JobFactorDepartment</th>\n",
       "      <th>JobFactorTitle</th>\n",
       "      <th>JobFactorCompanyFunding</th>\n",
       "      <th>JobFactorImpact</th>\n",
       "      <th>JobFactorRemote</th>\n",
       "      <th>JobFactorIndustry</th>\n",
       "      <th>JobFactorLeaderReputation</th>\n",
       "      <th>JobFactorDiversity</th>\n",
       "      <th>JobFactorPublishingOpportunity</th>\n",
       "    </tr>\n",
       "  </thead>\n",
       "  <tbody>\n",
       "    <tr>\n",
       "      <th>0</th>\n",
       "      <td>Non-binary, genderqueer, or gender non-conforming</td>\n",
       "      <td>NaN</td>\n",
       "      <td>NaN</td>\n",
       "      <td>Employed full-time</td>\n",
       "      <td>NaN</td>\n",
       "      <td>NaN</td>\n",
       "      <td>Yes</td>\n",
       "      <td>NaN</td>\n",
       "      <td>DBA/Database Engineer</td>\n",
       "      <td>Fine</td>\n",
       "      <td>...</td>\n",
       "      <td>NaN</td>\n",
       "      <td>NaN</td>\n",
       "      <td>NaN</td>\n",
       "      <td>NaN</td>\n",
       "      <td>NaN</td>\n",
       "      <td>NaN</td>\n",
       "      <td>NaN</td>\n",
       "      <td>NaN</td>\n",
       "      <td>NaN</td>\n",
       "      <td>NaN</td>\n",
       "    </tr>\n",
       "    <tr>\n",
       "      <th>195</th>\n",
       "      <td>Non-binary, genderqueer, or gender non-conforming</td>\n",
       "      <td>United States</td>\n",
       "      <td>57.0</td>\n",
       "      <td>Not employed, but looking for work</td>\n",
       "      <td>NaN</td>\n",
       "      <td>NaN</td>\n",
       "      <td>NaN</td>\n",
       "      <td>NaN</td>\n",
       "      <td>NaN</td>\n",
       "      <td>NaN</td>\n",
       "      <td>...</td>\n",
       "      <td>Very Important</td>\n",
       "      <td>Somewhat important</td>\n",
       "      <td>Somewhat important</td>\n",
       "      <td>Very Important</td>\n",
       "      <td>Not important</td>\n",
       "      <td>Somewhat important</td>\n",
       "      <td>Very Important</td>\n",
       "      <td>Very Important</td>\n",
       "      <td>Somewhat important</td>\n",
       "      <td>Somewhat important</td>\n",
       "    </tr>\n",
       "    <tr>\n",
       "      <th>207</th>\n",
       "      <td>Non-binary, genderqueer, or gender non-conforming</td>\n",
       "      <td>United States</td>\n",
       "      <td>21.0</td>\n",
       "      <td>Not employed, and not looking for work</td>\n",
       "      <td>Yes</td>\n",
       "      <td>Yes, I'm focused on learning mostly data scien...</td>\n",
       "      <td>NaN</td>\n",
       "      <td>NaN</td>\n",
       "      <td>NaN</td>\n",
       "      <td>NaN</td>\n",
       "      <td>...</td>\n",
       "      <td>Somewhat important</td>\n",
       "      <td>Somewhat important</td>\n",
       "      <td>Somewhat important</td>\n",
       "      <td>Very Important</td>\n",
       "      <td>Not important</td>\n",
       "      <td>Not important</td>\n",
       "      <td>Not important</td>\n",
       "      <td>Not important</td>\n",
       "      <td>Somewhat important</td>\n",
       "      <td>Not important</td>\n",
       "    </tr>\n",
       "    <tr>\n",
       "      <th>707</th>\n",
       "      <td>Non-binary, genderqueer, or gender non-conforming</td>\n",
       "      <td>United States</td>\n",
       "      <td>45.0</td>\n",
       "      <td>Employed full-time</td>\n",
       "      <td>NaN</td>\n",
       "      <td>NaN</td>\n",
       "      <td>No</td>\n",
       "      <td>Yes</td>\n",
       "      <td>Software Developer/Software Engineer</td>\n",
       "      <td>Poorly</td>\n",
       "      <td>...</td>\n",
       "      <td>Not important</td>\n",
       "      <td>Somewhat important</td>\n",
       "      <td>Not important</td>\n",
       "      <td>Somewhat important</td>\n",
       "      <td>Somewhat important</td>\n",
       "      <td>Not important</td>\n",
       "      <td>Not important</td>\n",
       "      <td>Somewhat important</td>\n",
       "      <td>Not important</td>\n",
       "      <td>Somewhat important</td>\n",
       "    </tr>\n",
       "    <tr>\n",
       "      <th>981</th>\n",
       "      <td>Non-binary, genderqueer, or gender non-conforming</td>\n",
       "      <td>United States</td>\n",
       "      <td>34.0</td>\n",
       "      <td>Not employed, but looking for work</td>\n",
       "      <td>NaN</td>\n",
       "      <td>NaN</td>\n",
       "      <td>NaN</td>\n",
       "      <td>NaN</td>\n",
       "      <td>NaN</td>\n",
       "      <td>NaN</td>\n",
       "      <td>...</td>\n",
       "      <td>Very Important</td>\n",
       "      <td>Very Important</td>\n",
       "      <td>Very Important</td>\n",
       "      <td>Not important</td>\n",
       "      <td>Somewhat important</td>\n",
       "      <td>Somewhat important</td>\n",
       "      <td>Somewhat important</td>\n",
       "      <td>Not important</td>\n",
       "      <td>Not important</td>\n",
       "      <td>Not important</td>\n",
       "    </tr>\n",
       "    <tr>\n",
       "      <th>...</th>\n",
       "      <td>...</td>\n",
       "      <td>...</td>\n",
       "      <td>...</td>\n",
       "      <td>...</td>\n",
       "      <td>...</td>\n",
       "      <td>...</td>\n",
       "      <td>...</td>\n",
       "      <td>...</td>\n",
       "      <td>...</td>\n",
       "      <td>...</td>\n",
       "      <td>...</td>\n",
       "      <td>...</td>\n",
       "      <td>...</td>\n",
       "      <td>...</td>\n",
       "      <td>...</td>\n",
       "      <td>...</td>\n",
       "      <td>...</td>\n",
       "      <td>...</td>\n",
       "      <td>...</td>\n",
       "      <td>...</td>\n",
       "      <td>...</td>\n",
       "    </tr>\n",
       "    <tr>\n",
       "      <th>14284</th>\n",
       "      <td>Non-binary, genderqueer, or gender non-conforming</td>\n",
       "      <td>Indonesia</td>\n",
       "      <td>37.0</td>\n",
       "      <td>Employed full-time</td>\n",
       "      <td>NaN</td>\n",
       "      <td>NaN</td>\n",
       "      <td>No</td>\n",
       "      <td>No</td>\n",
       "      <td>NaN</td>\n",
       "      <td>NaN</td>\n",
       "      <td>...</td>\n",
       "      <td>NaN</td>\n",
       "      <td>NaN</td>\n",
       "      <td>NaN</td>\n",
       "      <td>NaN</td>\n",
       "      <td>NaN</td>\n",
       "      <td>NaN</td>\n",
       "      <td>NaN</td>\n",
       "      <td>NaN</td>\n",
       "      <td>NaN</td>\n",
       "      <td>NaN</td>\n",
       "    </tr>\n",
       "    <tr>\n",
       "      <th>14458</th>\n",
       "      <td>Non-binary, genderqueer, or gender non-conforming</td>\n",
       "      <td>Other</td>\n",
       "      <td>32.0</td>\n",
       "      <td>I prefer not to say</td>\n",
       "      <td>No</td>\n",
       "      <td>Yes, but data science is a small part of what ...</td>\n",
       "      <td>NaN</td>\n",
       "      <td>NaN</td>\n",
       "      <td>NaN</td>\n",
       "      <td>NaN</td>\n",
       "      <td>...</td>\n",
       "      <td>NaN</td>\n",
       "      <td>NaN</td>\n",
       "      <td>NaN</td>\n",
       "      <td>NaN</td>\n",
       "      <td>NaN</td>\n",
       "      <td>NaN</td>\n",
       "      <td>NaN</td>\n",
       "      <td>NaN</td>\n",
       "      <td>NaN</td>\n",
       "      <td>NaN</td>\n",
       "    </tr>\n",
       "    <tr>\n",
       "      <th>14506</th>\n",
       "      <td>Non-binary, genderqueer, or gender non-conforming</td>\n",
       "      <td>Vietnam</td>\n",
       "      <td>29.0</td>\n",
       "      <td>Employed full-time</td>\n",
       "      <td>NaN</td>\n",
       "      <td>NaN</td>\n",
       "      <td>Yes</td>\n",
       "      <td>NaN</td>\n",
       "      <td>Data Scientist</td>\n",
       "      <td>Fine</td>\n",
       "      <td>...</td>\n",
       "      <td>NaN</td>\n",
       "      <td>NaN</td>\n",
       "      <td>NaN</td>\n",
       "      <td>NaN</td>\n",
       "      <td>NaN</td>\n",
       "      <td>NaN</td>\n",
       "      <td>NaN</td>\n",
       "      <td>NaN</td>\n",
       "      <td>NaN</td>\n",
       "      <td>NaN</td>\n",
       "    </tr>\n",
       "    <tr>\n",
       "      <th>14834</th>\n",
       "      <td>Non-binary, genderqueer, or gender non-conforming</td>\n",
       "      <td>NaN</td>\n",
       "      <td>NaN</td>\n",
       "      <td>Employed full-time</td>\n",
       "      <td>NaN</td>\n",
       "      <td>NaN</td>\n",
       "      <td>Yes</td>\n",
       "      <td>NaN</td>\n",
       "      <td>NaN</td>\n",
       "      <td>NaN</td>\n",
       "      <td>...</td>\n",
       "      <td>NaN</td>\n",
       "      <td>NaN</td>\n",
       "      <td>NaN</td>\n",
       "      <td>NaN</td>\n",
       "      <td>NaN</td>\n",
       "      <td>NaN</td>\n",
       "      <td>NaN</td>\n",
       "      <td>NaN</td>\n",
       "      <td>NaN</td>\n",
       "      <td>NaN</td>\n",
       "    </tr>\n",
       "    <tr>\n",
       "      <th>15097</th>\n",
       "      <td>Non-binary, genderqueer, or gender non-conforming</td>\n",
       "      <td>Netherlands</td>\n",
       "      <td>33.0</td>\n",
       "      <td>Employed full-time</td>\n",
       "      <td>NaN</td>\n",
       "      <td>NaN</td>\n",
       "      <td>Yes</td>\n",
       "      <td>NaN</td>\n",
       "      <td>Data Miner</td>\n",
       "      <td>Fine</td>\n",
       "      <td>...</td>\n",
       "      <td>NaN</td>\n",
       "      <td>NaN</td>\n",
       "      <td>NaN</td>\n",
       "      <td>NaN</td>\n",
       "      <td>NaN</td>\n",
       "      <td>NaN</td>\n",
       "      <td>NaN</td>\n",
       "      <td>NaN</td>\n",
       "      <td>NaN</td>\n",
       "      <td>NaN</td>\n",
       "    </tr>\n",
       "  </tbody>\n",
       "</table>\n",
       "<p>70 rows × 228 columns</p>\n",
       "</div>"
      ],
      "text/plain": [
       "                                            GenderSelect        Country   Age  \\\n",
       "0      Non-binary, genderqueer, or gender non-conforming            NaN   NaN   \n",
       "195    Non-binary, genderqueer, or gender non-conforming  United States  57.0   \n",
       "207    Non-binary, genderqueer, or gender non-conforming  United States  21.0   \n",
       "707    Non-binary, genderqueer, or gender non-conforming  United States  45.0   \n",
       "981    Non-binary, genderqueer, or gender non-conforming  United States  34.0   \n",
       "...                                                  ...            ...   ...   \n",
       "14284  Non-binary, genderqueer, or gender non-conforming      Indonesia  37.0   \n",
       "14458  Non-binary, genderqueer, or gender non-conforming          Other  32.0   \n",
       "14506  Non-binary, genderqueer, or gender non-conforming        Vietnam  29.0   \n",
       "14834  Non-binary, genderqueer, or gender non-conforming            NaN   NaN   \n",
       "15097  Non-binary, genderqueer, or gender non-conforming    Netherlands  33.0   \n",
       "\n",
       "                             EmploymentStatus StudentStatus  \\\n",
       "0                          Employed full-time           NaN   \n",
       "195        Not employed, but looking for work           NaN   \n",
       "207    Not employed, and not looking for work           Yes   \n",
       "707                        Employed full-time           NaN   \n",
       "981        Not employed, but looking for work           NaN   \n",
       "...                                       ...           ...   \n",
       "14284                      Employed full-time           NaN   \n",
       "14458                     I prefer not to say            No   \n",
       "14506                      Employed full-time           NaN   \n",
       "14834                      Employed full-time           NaN   \n",
       "15097                      Employed full-time           NaN   \n",
       "\n",
       "                                     LearningDataScience CodeWriter  \\\n",
       "0                                                    NaN        Yes   \n",
       "195                                                  NaN        NaN   \n",
       "207    Yes, I'm focused on learning mostly data scien...        NaN   \n",
       "707                                                  NaN         No   \n",
       "981                                                  NaN        NaN   \n",
       "...                                                  ...        ...   \n",
       "14284                                                NaN         No   \n",
       "14458  Yes, but data science is a small part of what ...        NaN   \n",
       "14506                                                NaN        Yes   \n",
       "14834                                                NaN        Yes   \n",
       "15097                                                NaN        Yes   \n",
       "\n",
       "      CareerSwitcher                 CurrentJobTitleSelect TitleFit  ...  \\\n",
       "0                NaN                 DBA/Database Engineer     Fine  ...   \n",
       "195              NaN                                   NaN      NaN  ...   \n",
       "207              NaN                                   NaN      NaN  ...   \n",
       "707              Yes  Software Developer/Software Engineer   Poorly  ...   \n",
       "981              NaN                                   NaN      NaN  ...   \n",
       "...              ...                                   ...      ...  ...   \n",
       "14284             No                                   NaN      NaN  ...   \n",
       "14458            NaN                                   NaN      NaN  ...   \n",
       "14506            NaN                        Data Scientist     Fine  ...   \n",
       "14834            NaN                                   NaN      NaN  ...   \n",
       "15097            NaN                            Data Miner     Fine  ...   \n",
       "\n",
       "      JobFactorExperienceLevel JobFactorDepartment      JobFactorTitle  \\\n",
       "0                          NaN                 NaN                 NaN   \n",
       "195             Very Important  Somewhat important  Somewhat important   \n",
       "207         Somewhat important  Somewhat important  Somewhat important   \n",
       "707              Not important  Somewhat important       Not important   \n",
       "981             Very Important      Very Important      Very Important   \n",
       "...                        ...                 ...                 ...   \n",
       "14284                      NaN                 NaN                 NaN   \n",
       "14458                      NaN                 NaN                 NaN   \n",
       "14506                      NaN                 NaN                 NaN   \n",
       "14834                      NaN                 NaN                 NaN   \n",
       "15097                      NaN                 NaN                 NaN   \n",
       "\n",
       "      JobFactorCompanyFunding     JobFactorImpact     JobFactorRemote  \\\n",
       "0                         NaN                 NaN                 NaN   \n",
       "195            Very Important       Not important  Somewhat important   \n",
       "207            Very Important       Not important       Not important   \n",
       "707        Somewhat important  Somewhat important       Not important   \n",
       "981             Not important  Somewhat important  Somewhat important   \n",
       "...                       ...                 ...                 ...   \n",
       "14284                     NaN                 NaN                 NaN   \n",
       "14458                     NaN                 NaN                 NaN   \n",
       "14506                     NaN                 NaN                 NaN   \n",
       "14834                     NaN                 NaN                 NaN   \n",
       "15097                     NaN                 NaN                 NaN   \n",
       "\n",
       "        JobFactorIndustry JobFactorLeaderReputation  JobFactorDiversity  \\\n",
       "0                     NaN                       NaN                 NaN   \n",
       "195        Very Important            Very Important  Somewhat important   \n",
       "207         Not important             Not important  Somewhat important   \n",
       "707         Not important        Somewhat important       Not important   \n",
       "981    Somewhat important             Not important       Not important   \n",
       "...                   ...                       ...                 ...   \n",
       "14284                 NaN                       NaN                 NaN   \n",
       "14458                 NaN                       NaN                 NaN   \n",
       "14506                 NaN                       NaN                 NaN   \n",
       "14834                 NaN                       NaN                 NaN   \n",
       "15097                 NaN                       NaN                 NaN   \n",
       "\n",
       "      JobFactorPublishingOpportunity  \n",
       "0                                NaN  \n",
       "195               Somewhat important  \n",
       "207                    Not important  \n",
       "707               Somewhat important  \n",
       "981                    Not important  \n",
       "...                              ...  \n",
       "14284                            NaN  \n",
       "14458                            NaN  \n",
       "14506                            NaN  \n",
       "14834                            NaN  \n",
       "15097                            NaN  \n",
       "\n",
       "[70 rows x 228 columns]"
      ]
     },
     "execution_count": 112,
     "metadata": {},
     "output_type": "execute_result"
    }
   ],
   "source": [
    "responses[responses[\"GenderSelect\"] == \"Non-binary, genderqueer, or gender non-conforming\"]"
   ]
  },
  {
   "cell_type": "code",
   "execution_count": 93,
   "id": "edc2eb7f-8c26-4d37-ade2-bec7f31c36cb",
   "metadata": {},
   "outputs": [],
   "source": [
    "df1 = responses.replace(np.nan, 'nan', regex=True)"
   ]
  },
  {
   "cell_type": "code",
   "execution_count": 90,
   "id": "899a96be-12ff-4e97-bf7d-e0de04bfb774",
   "metadata": {},
   "outputs": [
    {
     "data": {
      "text/plain": [
       "array(['Non-binary, genderqueer, or gender non-conforming', 'Female',\n",
       "       'Male', 'A different identity', nan], dtype=object)"
      ]
     },
     "execution_count": 90,
     "metadata": {},
     "output_type": "execute_result"
    }
   ],
   "source": [
    "responses[\"GenderSelect\"].unique()"
   ]
  },
  {
   "cell_type": "code",
   "execution_count": 95,
   "id": "f65d914d-2590-4fbb-9f00-9d377b211cca",
   "metadata": {},
   "outputs": [
    {
     "name": "stderr",
     "output_type": "stream",
     "text": [
      "C:\\ProgramData\\Anaconda3\\lib\\site-packages\\seaborn\\_decorators.py:36: FutureWarning: Pass the following variable as a keyword arg: x. From version 0.12, the only valid positional argument will be `data`, and passing other arguments without an explicit keyword will result in an error or misinterpretation.\n",
      "  warnings.warn(\n"
     ]
    },
    {
     "data": {
      "image/png": "[encoded data removed]",
      "text/plain": [
       "<Figure size 432x288 with 1 Axes>"
      ]
     },
     "metadata": {
      "needs_background": "light"
     },
     "output_type": "display_data"
    }
   ],
   "source": [
    "sns.countplot(df1[\"GenderSelect\"]);\n",
    "plt.xticks(rotation=90);"
   ]
  },
  {
   "cell_type": "code",
   "execution_count": 141,
   "id": "08fcae19-4e1b-4bd0-b0b5-53dd13d34f16",
   "metadata": {},
   "outputs": [],
   "source": [
    "grap = responses[\"Country\"].value_counts()[:15].to_frame()"
   ]
  },
  {
   "cell_type": "code",
   "execution_count": 145,
   "id": "e9597043-ba23-4bea-8a3e-ac2415d424a8",
   "metadata": {},
   "outputs": [
    {
     "data": {
      "image/png": "[encoded data removed]",
      "text/plain": [
       "<Figure size 432x288 with 1 Axes>"
      ]
     },
     "metadata": {
      "needs_background": "light"
     },
     "output_type": "display_data"
    }
   ],
   "source": [
    "sns.barplot(y = grap[\"Country\"], x = grap.index);\n",
    "plt.xticks(rotation=90);"
   ]
  },
  {
   "cell_type": "code",
   "execution_count": null,
   "id": "e883aedd-917c-4d11-ad44-c20771845d31",
   "metadata": {},
   "outputs": [],
   "source": [
    "responses.groupby(\"GenderSelect\")[]"
   ]
  },
  {
   "cell_type": "code",
   "execution_count": 205,
   "id": "49f1b0c7-a840-4996-b443-6df0c8a25dc4",
   "metadata": {},
   "outputs": [],
   "source": [
    "conversion = pd.read_csv(\"conversionRates.csv\")"
   ]
  },
  {
   "cell_type": "code",
   "execution_count": 208,
   "id": "98803e53-b8de-49fb-b481-a5ad829fd28e",
   "metadata": {},
   "outputs": [],
   "source": [
    "conversion = conversion.rename({\"originCountry\":'CompensationCurrency'})"
   ]
  },
  {
   "cell_type": "code",
   "execution_count": 209,
   "id": "486d154e-3570-4186-9da6-8fa932bfa45f",
   "metadata": {},
   "outputs": [
    {
     "data": {
      "text/html": [
       "<div>\n",
       "<style scoped>\n",
       "    .dataframe tbody tr th:only-of-type {\n",
       "        vertical-align: middle;\n",
       "    }\n",
       "\n",
       "    .dataframe tbody tr th {\n",
       "        vertical-align: top;\n",
       "    }\n",
       "\n",
       "    .dataframe thead th {\n",
       "        text-align: right;\n",
       "    }\n",
       "</style>\n",
       "<table border=\"1\" class=\"dataframe\">\n",
       "  <thead>\n",
       "    <tr style=\"text-align: right;\">\n",
       "      <th></th>\n",
       "      <th>Unnamed: 0</th>\n",
       "      <th>originCountry</th>\n",
       "      <th>exchangeRate</th>\n",
       "    </tr>\n",
       "  </thead>\n",
       "  <tbody>\n",
       "    <tr>\n",
       "      <th>0</th>\n",
       "      <td>1</td>\n",
       "      <td>USD</td>\n",
       "      <td>1.000000</td>\n",
       "    </tr>\n",
       "    <tr>\n",
       "      <th>1</th>\n",
       "      <td>2</td>\n",
       "      <td>EUR</td>\n",
       "      <td>1.195826</td>\n",
       "    </tr>\n",
       "    <tr>\n",
       "      <th>2</th>\n",
       "      <td>3</td>\n",
       "      <td>INR</td>\n",
       "      <td>0.015620</td>\n",
       "    </tr>\n",
       "    <tr>\n",
       "      <th>3</th>\n",
       "      <td>4</td>\n",
       "      <td>GBP</td>\n",
       "      <td>1.324188</td>\n",
       "    </tr>\n",
       "    <tr>\n",
       "      <th>4</th>\n",
       "      <td>5</td>\n",
       "      <td>BRL</td>\n",
       "      <td>0.321350</td>\n",
       "    </tr>\n",
       "    <tr>\n",
       "      <th>...</th>\n",
       "      <td>...</td>\n",
       "      <td>...</td>\n",
       "      <td>...</td>\n",
       "    </tr>\n",
       "    <tr>\n",
       "      <th>81</th>\n",
       "      <td>82</td>\n",
       "      <td>SVC</td>\n",
       "      <td>0.114124</td>\n",
       "    </tr>\n",
       "    <tr>\n",
       "      <th>82</th>\n",
       "      <td>83</td>\n",
       "      <td>SZL</td>\n",
       "      <td>0.077002</td>\n",
       "    </tr>\n",
       "    <tr>\n",
       "      <th>83</th>\n",
       "      <td>84</td>\n",
       "      <td>UYU</td>\n",
       "      <td>0.034642</td>\n",
       "    </tr>\n",
       "    <tr>\n",
       "      <th>84</th>\n",
       "      <td>85</td>\n",
       "      <td>XAF</td>\n",
       "      <td>0.001823</td>\n",
       "    </tr>\n",
       "    <tr>\n",
       "      <th>85</th>\n",
       "      <td>86</td>\n",
       "      <td>YER</td>\n",
       "      <td>0.003996</td>\n",
       "    </tr>\n",
       "  </tbody>\n",
       "</table>\n",
       "<p>86 rows × 3 columns</p>\n",
       "</div>"
      ],
      "text/plain": [
       "    Unnamed: 0 originCountry  exchangeRate\n",
       "0            1           USD      1.000000\n",
       "1            2           EUR      1.195826\n",
       "2            3           INR      0.015620\n",
       "3            4           GBP      1.324188\n",
       "4            5           BRL      0.321350\n",
       "..         ...           ...           ...\n",
       "81          82           SVC      0.114124\n",
       "82          83           SZL      0.077002\n",
       "83          84           UYU      0.034642\n",
       "84          85           XAF      0.001823\n",
       "85          86           YER      0.003996\n",
       "\n",
       "[86 rows x 3 columns]"
      ]
     },
     "execution_count": 209,
     "metadata": {},
     "output_type": "execute_result"
    }
   ],
   "source": [
    "conversion"
   ]
  },
  {
   "cell_type": "code",
   "execution_count": 296,
   "id": "32666669-9dbd-4b22-beaf-65a08d72c856",
   "metadata": {},
   "outputs": [],
   "source": [
    "dataset = pd.merge(responses, conversion, left_on = \"CompensationCurrency\", right_on = \"originCountry\", how = \"inner\")"
   ]
  },
  {
   "cell_type": "code",
   "execution_count": 221,
   "id": "75347a4a-4545-4306-9cd7-02d59b0ed491",
   "metadata": {},
   "outputs": [
    {
     "data": {
      "text/plain": [
       "0       USD\n",
       "1       USD\n",
       "2       USD\n",
       "3       USD\n",
       "4       USD\n",
       "       ... \n",
       "4477    UYU\n",
       "4478    OMR\n",
       "4479    AZN\n",
       "4480    IQD\n",
       "4481    IQD\n",
       "Name: CompensationCurrency, Length: 4482, dtype: object"
      ]
     },
     "execution_count": 221,
     "metadata": {},
     "output_type": "execute_result"
    }
   ],
   "source": [
    "dataset[\"CompensationCurrency\"]"
   ]
  },
  {
   "cell_type": "code",
   "execution_count": 298,
   "id": "b77e1db2-3b35-46f1-85ed-7cbcba7c217a",
   "metadata": {},
   "outputs": [],
   "source": [
    "dataset[\"CompensationAmount\"] = dataset[\"CompensationAmount\"].str.replace(\",\", \"\")"
   ]
  },
  {
   "cell_type": "code",
   "execution_count": 299,
   "id": "25188431-b0f4-4465-9755-f62ca98caf25",
   "metadata": {},
   "outputs": [
    {
     "data": {
      "text/plain": [
       "0        250000\n",
       "1         20000\n",
       "2        100000\n",
       "3        133000\n",
       "4         80000\n",
       "         ...   \n",
       "4477    1000000\n",
       "4478      40000\n",
       "4479      70000\n",
       "4480     750000\n",
       "4481    1500000\n",
       "Name: CompensationAmount, Length: 4482, dtype: object"
      ]
     },
     "execution_count": 299,
     "metadata": {},
     "output_type": "execute_result"
    }
   ],
   "source": [
    "dataset[\"CompensationAmount\"]"
   ]
  },
  {
   "cell_type": "code",
   "execution_count": 300,
   "id": "6411150f-835f-46e3-b1a8-18819dd0c50c",
   "metadata": {},
   "outputs": [],
   "source": [
    "dataset[\"CompensationAmount\"] = dataset[\"CompensationAmount\"][dataset[\"CompensationAmount\"] != \"-\"]"
   ]
  },
  {
   "cell_type": "code",
   "execution_count": 312,
   "id": "a62fc1e1-186f-4447-8588-2203b4f81996",
   "metadata": {},
   "outputs": [
    {
     "data": {
      "text/html": [
       "<div>\n",
       "<style scoped>\n",
       "    .dataframe tbody tr th:only-of-type {\n",
       "        vertical-align: middle;\n",
       "    }\n",
       "\n",
       "    .dataframe tbody tr th {\n",
       "        vertical-align: top;\n",
       "    }\n",
       "\n",
       "    .dataframe thead th {\n",
       "        text-align: right;\n",
       "    }\n",
       "</style>\n",
       "<table border=\"1\" class=\"dataframe\">\n",
       "  <thead>\n",
       "    <tr style=\"text-align: right;\">\n",
       "      <th></th>\n",
       "      <th>GenderSelect</th>\n",
       "      <th>Country</th>\n",
       "      <th>Age</th>\n",
       "      <th>EmploymentStatus</th>\n",
       "      <th>StudentStatus</th>\n",
       "      <th>LearningDataScience</th>\n",
       "      <th>CodeWriter</th>\n",
       "      <th>CareerSwitcher</th>\n",
       "      <th>CurrentJobTitleSelect</th>\n",
       "      <th>TitleFit</th>\n",
       "      <th>...</th>\n",
       "      <th>JobFactorCompanyFunding</th>\n",
       "      <th>JobFactorImpact</th>\n",
       "      <th>JobFactorRemote</th>\n",
       "      <th>JobFactorIndustry</th>\n",
       "      <th>JobFactorLeaderReputation</th>\n",
       "      <th>JobFactorDiversity</th>\n",
       "      <th>JobFactorPublishingOpportunity</th>\n",
       "      <th>Unnamed: 0</th>\n",
       "      <th>originCountry</th>\n",
       "      <th>exchangeRate</th>\n",
       "    </tr>\n",
       "  </thead>\n",
       "  <tbody>\n",
       "  </tbody>\n",
       "</table>\n",
       "<p>0 rows × 231 columns</p>\n",
       "</div>"
      ],
      "text/plain": [
       "Empty DataFrame\n",
       "Columns: [GenderSelect, Country, Age, EmploymentStatus, StudentStatus, LearningDataScience, CodeWriter, CareerSwitcher, CurrentJobTitleSelect, TitleFit, CurrentEmployerType, MLToolNextYearSelect, MLMethodNextYearSelect, LanguageRecommendationSelect, PublicDatasetsSelect, LearningPlatformSelect, LearningPlatformUsefulnessArxiv, LearningPlatformUsefulnessBlogs, LearningPlatformUsefulnessCollege, LearningPlatformUsefulnessCompany, LearningPlatformUsefulnessConferences, LearningPlatformUsefulnessFriends, LearningPlatformUsefulnessKaggle, LearningPlatformUsefulnessNewsletters, LearningPlatformUsefulnessCommunities, LearningPlatformUsefulnessDocumentation, LearningPlatformUsefulnessCourses, LearningPlatformUsefulnessProjects, LearningPlatformUsefulnessPodcasts, LearningPlatformUsefulnessSO, LearningPlatformUsefulnessTextbook, LearningPlatformUsefulnessTradeBook, LearningPlatformUsefulnessTutoring, LearningPlatformUsefulnessYouTube, BlogsPodcastsNewslettersSelect, LearningDataScienceTime, JobSkillImportanceBigData, JobSkillImportanceDegree, JobSkillImportanceStats, JobSkillImportanceEnterpriseTools, JobSkillImportancePython, JobSkillImportanceR, JobSkillImportanceSQL, JobSkillImportanceKaggleRanking, JobSkillImportanceMOOC, JobSkillImportanceVisualizations, JobSkillImportanceOtherSelect1, JobSkillImportanceOtherSelect2, JobSkillImportanceOtherSelect3, CoursePlatformSelect, HardwarePersonalProjectsSelect, TimeSpentStudying, ProveKnowledgeSelect, DataScienceIdentitySelect, FormalEducation, MajorSelect, Tenure, PastJobTitlesSelect, FirstTrainingSelect, LearningCategorySelftTaught, LearningCategoryOnlineCourses, LearningCategoryWork, LearningCategoryUniversity, LearningCategoryKaggle, LearningCategoryOther, MLSkillsSelect, MLTechniquesSelect, ParentsEducation, EmployerIndustry, EmployerSize, EmployerSizeChange, EmployerMLTime, EmployerSearchMethod, UniversityImportance, JobFunctionSelect, WorkHardwareSelect, WorkDataTypeSelect, WorkProductionFrequency, WorkDatasetSize, WorkAlgorithmsSelect, WorkToolsSelect, WorkToolsFrequencyAmazonML, WorkToolsFrequencyAWS, WorkToolsFrequencyAngoss, WorkToolsFrequencyC, WorkToolsFrequencyCloudera, WorkToolsFrequencyDataRobot, WorkToolsFrequencyFlume, WorkToolsFrequencyGCP, WorkToolsFrequencyHadoop, WorkToolsFrequencyIBMCognos, WorkToolsFrequencyIBMSPSSModeler, WorkToolsFrequencyIBMSPSSStatistics, WorkToolsFrequencyIBMWatson, WorkToolsFrequencyImpala, WorkToolsFrequencyJava, WorkToolsFrequencyJulia, WorkToolsFrequencyJupyter, WorkToolsFrequencyKNIMECommercial, WorkToolsFrequencyKNIMEFree, ...]\n",
       "Index: []\n",
       "\n",
       "[0 rows x 231 columns]"
      ]
     },
     "execution_count": 312,
     "metadata": {},
     "output_type": "execute_result"
    }
   ],
   "source": [
    "dataset[dataset[\"CompensationAmount\"] == \"NaN\"]"
   ]
  },
  {
   "cell_type": "code",
   "execution_count": 315,
   "id": "db523e5e-9abd-4691-a273-98a0cba1502e",
   "metadata": {},
   "outputs": [],
   "source": [
    "dataset[\"CompensationAmount\"] = pd.to_numeric(dataset[\"CompensationAmount\"])"
   ]
  },
  {
   "cell_type": "code",
   "execution_count": 332,
   "id": "d117e470-9ccd-4b5d-add0-b5059b9a3b3f",
   "metadata": {
    "tags": []
   },
   "outputs": [],
   "source": [
    "dataset1 = dataset[[\"GenderSelect\", \"CompensationCurrency\",\"CompensationAmount\", \"exchangeRate\"]]\n"
   ]
  },
  {
   "cell_type": "code",
   "execution_count": 333,
   "id": "51a3ded6-40a3-4471-a18c-291cd98c95e5",
   "metadata": {
    "collapsed": true,
    "jupyter": {
     "outputs_hidden": true
    },
    "tags": []
   },
   "outputs": [
    {
     "name": "stderr",
     "output_type": "stream",
     "text": [
      "C:\\ProgramData\\Anaconda3\\lib\\site-packages\\pandas\\core\\indexing.py:1597: SettingWithCopyWarning: \n",
      "A value is trying to be set on a copy of a slice from a DataFrame.\n",
      "Try using .loc[row_indexer,col_indexer] = value instead\n",
      "\n",
      "See the caveats in the documentation: https://pandas.pydata.org/pandas-docs/stable/user_guide/indexing.html#returning-a-view-versus-a-copy\n",
      "  self.obj[key] = value\n"
     ]
    }
   ],
   "source": [
    "dataset1.loc[:,\"conversion_to_USD\"] = dataset1[\"CompensationAmount\"] * dataset1[\"exchangeRate\"]"
   ]
  },
  {
   "cell_type": "code",
   "execution_count": 351,
   "id": "cb79d9a1-d09c-47e6-9b81-bd3cde1125b1",
   "metadata": {},
   "outputs": [
    {
     "data": {
      "text/plain": [
       "4391    2.829740e+10\n",
       "3994    2.090000e+08\n",
       "280     9.999999e+06\n",
       "1394    2.500000e+06\n",
       "4447    2.395469e+06\n",
       "            ...     \n",
       "4424             NaN\n",
       "4427             NaN\n",
       "4442             NaN\n",
       "4449             NaN\n",
       "4453             NaN\n",
       "Name: conversion_to_USD, Length: 4482, dtype: float64"
      ]
     },
     "execution_count": 351,
     "metadata": {},
     "output_type": "execute_result"
    }
   ],
   "source": [
    "dataset1['conversion_to_USD'].sort_values(ascending = False)"
   ]
  },
  {
   "cell_type": "code",
   "execution_count": 359,
   "id": "b8f50612-b6b5-405e-9dc2-509925c879b2",
   "metadata": {},
   "outputs": [
    {
     "data": {
      "text/plain": [
       "<bound method IndexOpsMixin.value_counts of 4391    2.829740e+10\n",
       "3994    2.090000e+08\n",
       "280     9.999999e+06\n",
       "1394    2.500000e+06\n",
       "4447    2.395469e+06\n",
       "            ...     \n",
       "4424             NaN\n",
       "4427             NaN\n",
       "4442             NaN\n",
       "4449             NaN\n",
       "4453             NaN\n",
       "Name: conversion_to_USD, Length: 4482, dtype: float64>"
      ]
     },
     "execution_count": 359,
     "metadata": {},
     "output_type": "execute_result"
    }
   ],
   "source": [
    "dataset1['conversion_to_USD'].sort_values(ascending = False).value_counts"
   ]
  },
  {
   "cell_type": "code",
   "execution_count": 395,
   "id": "f6e11f61-05a6-4547-9d22-e06d348e1894",
   "metadata": {},
   "outputs": [],
   "source": [
    "sin_tonto = dataset1[dataset1['conversion_to_USD'] < 500000]"
   ]
  },
  {
   "cell_type": "code",
   "execution_count": 401,
   "id": "fb11f856-5f5b-4667-b6ea-5d3b22f81051",
   "metadata": {},
   "outputs": [],
   "source": [
    "sin_pobres = dataset1[dataset1['conversion_to_USD'] > 1]"
   ]
  },
  {
   "cell_type": "code",
   "execution_count": 405,
   "id": "d166d11f-c39e-494d-843f-03406d0ea3ac",
   "metadata": {},
   "outputs": [
    {
     "name": "stderr",
     "output_type": "stream",
     "text": [
      "<ipython-input-405-53842bd50bab>:1: UserWarning: Boolean Series key will be reindexed to match DataFrame index.\n",
      "  sin_outliers = dataset1[dataset1['conversion_to_USD'] > 1][dataset1['conversion_to_USD'] < 500000]\n"
     ]
    }
   ],
   "source": [
    "sin_outliers = dataset1[dataset1['conversion_to_USD'] > 1][dataset1['conversion_to_USD'] < 500000]"
   ]
  },
  {
   "cell_type": "code",
   "execution_count": 408,
   "id": "7a1a6cbd-7759-4a6a-9c2f-a853bbcdc457",
   "metadata": {},
   "outputs": [
    {
     "data": {
      "text/plain": [
       "1.09296"
      ]
     },
     "execution_count": 408,
     "metadata": {},
     "output_type": "execute_result"
    }
   ],
   "source": [
    "sin_outliers['conversion_to_USD'].min()"
   ]
  },
  {
   "cell_type": "code",
   "execution_count": 389,
   "id": "6df90914-c984-4d5e-8e42-edb4e432071b",
   "metadata": {},
   "outputs": [
    {
     "data": {
      "text/plain": [
       "28297400000.0"
      ]
     },
     "execution_count": 389,
     "metadata": {},
     "output_type": "execute_result"
    }
   ],
   "source": [
    "dataset1['conversion_to_USD'].max()"
   ]
  },
  {
   "cell_type": "code",
   "execution_count": 368,
   "id": "ad5ebecc-2df1-4e71-bd9a-1d8fe7a978a3",
   "metadata": {},
   "outputs": [
    {
     "data": {
      "text/plain": [
       "count    4.332000e+03\n",
       "mean     6.651865e+06\n",
       "std      4.299444e+08\n",
       "min     -7.351631e+01\n",
       "25%      2.057415e+04\n",
       "50%      5.381217e+04\n",
       "75%      9.600000e+04\n",
       "max      2.829740e+10\n",
       "Name: conversion_to_USD, dtype: float64"
      ]
     },
     "execution_count": 368,
     "metadata": {},
     "output_type": "execute_result"
    }
   ],
   "source": [
    "dataset1['conversion_to_USD'].describe()"
   ]
  },
  {
   "cell_type": "code",
   "execution_count": 410,
   "id": "518fec4f-416f-46c9-b759-f09ce938e5e0",
   "metadata": {},
   "outputs": [
    {
     "data": {
      "text/plain": [
       "4317"
      ]
     },
     "execution_count": 410,
     "metadata": {},
     "output_type": "execute_result"
    }
   ],
   "source": [
    "len(sin_tonto['conversion_to_USD'])"
   ]
  },
  {
   "cell_type": "code",
   "execution_count": 409,
   "id": "3e181d6b-96f6-4c85-82e1-56de36a6383a",
   "metadata": {},
   "outputs": [
    {
     "data": {
      "image/png": "[encoded data removed]",
      "text/plain": [
       "<Figure size 720x720 with 1 Axes>"
      ]
     },
     "metadata": {
      "needs_background": "light"
     },
     "output_type": "display_data"
    }
   ],
   "source": [
    "plt.figure(figsize =(10,10))\n",
    "sns.boxplot(data = dataset1, x = dataset1[\"GenderSelect\"], y = sin_outliers['conversion_to_USD'])\n",
    "plt.xticks(rotation=90);"
   ]
  },
  {
   "cell_type": "code",
   "execution_count": 418,
   "id": "08de2ba6-9c24-48eb-9c37-9caca8e3cd28",
   "metadata": {},
   "outputs": [
    {
     "name": "stdout",
     "output_type": "stream",
     "text": [
      "Con outliers\n",
      "-73.516311\n",
      "28297400000.0\n",
      "6651864.61643671\n",
      "53812.170000000006\n",
      "\n",
      "Sin Outliers\n",
      "1.09296\n",
      "470000.0\n",
      "66848.86770292453\n",
      "53812.170000000006\n"
     ]
    }
   ],
   "source": [
    "print(\"Con outliers\")\n",
    "print(dataset1['conversion_to_USD'].min())\n",
    "print(dataset1['conversion_to_USD'].max())\n",
    "print(dataset1['conversion_to_USD'].mean())\n",
    "print(dataset1['conversion_to_USD'].median())\n",
    "print(\"\\nSin Outliers\")\n",
    "print(sin_outliers['conversion_to_USD'].min())\n",
    "print(sin_outliers['conversion_to_USD'].max())\n",
    "print(sin_outliers['conversion_to_USD'].mean())\n",
    "print(sin_outliers['conversion_to_USD'].median())"
   ]
  },
  {
   "cell_type": "code",
   "execution_count": 435,
   "id": "2a12c049-cc79-4056-898f-397e556e2f94",
   "metadata": {},
   "outputs": [],
   "source": [
    "learning = responses[['LearningPlatformSelect',\n",
    " 'LearningPlatformUsefulnessArxiv',\n",
    " 'LearningPlatformUsefulnessBlogs',\n",
    " 'LearningPlatformUsefulnessCollege',\n",
    " 'LearningPlatformUsefulnessCompany',\n",
    " 'LearningPlatformUsefulnessConferences',\n",
    " 'LearningPlatformUsefulnessFriends',\n",
    " 'LearningPlatformUsefulnessKaggle',\n",
    " 'LearningPlatformUsefulnessNewsletters',\n",
    " 'LearningPlatformUsefulnessCommunities',\n",
    " 'LearningPlatformUsefulnessDocumentation',\n",
    " 'LearningPlatformUsefulnessCourses',\n",
    " 'LearningPlatformUsefulnessProjects',\n",
    " 'LearningPlatformUsefulnessPodcasts',\n",
    " 'LearningPlatformUsefulnessSO',\n",
    " 'LearningPlatformUsefulnessTextbook',\n",
    " 'LearningPlatformUsefulnessTradeBook',\n",
    " 'LearningPlatformUsefulnessTutoring',\n",
    " 'LearningPlatformUsefulnessYouTube']]"
   ]
  },
  {
   "cell_type": "code",
   "execution_count": 440,
   "id": "cbdb6b1a-c9f0-45f5-9945-a2d6d8249f25",
   "metadata": {},
   "outputs": [],
   "source": [
    "learning_list = ['LearningPlatformSelect',\n",
    " 'LearningPlatformUsefulnessArxiv',\n",
    " 'LearningPlatformUsefulnessBlogs',\n",
    " 'LearningPlatformUsefulnessCollege',\n",
    " 'LearningPlatformUsefulnessCompany',\n",
    " 'LearningPlatformUsefulnessConferences',\n",
    " 'LearningPlatformUsefulnessFriends',\n",
    " 'LearningPlatformUsefulnessKaggle',\n",
    " 'LearningPlatformUsefulnessNewsletters',\n",
    " 'LearningPlatformUsefulnessCommunities',\n",
    " 'LearningPlatformUsefulnessDocumentation',\n",
    " 'LearningPlatformUsefulnessCourses',\n",
    " 'LearningPlatformUsefulnessProjects',\n",
    " 'LearningPlatformUsefulnessPodcasts',\n",
    " 'LearningPlatformUsefulnessSO',\n",
    " 'LearningPlatformUsefulnessTextbook',\n",
    " 'LearningPlatformUsefulnessTradeBook',\n",
    " 'LearningPlatformUsefulnessTutoring',\n",
    " 'LearningPlatformUsefulnessYouTube']"
   ]
  },
  {
   "cell_type": "code",
   "execution_count": 442,
   "id": "53ab65ee-9935-48f0-943d-3ade2e9ed190",
   "metadata": {},
   "outputs": [
    {
     "data": {
      "text/plain": [
       "['LearningPlatformSelect',\n",
       " 'LearningPlatformUsefulnessArxiv',\n",
       " 'LearningPlatformUsefulnessBlogs',\n",
       " 'LearningPlatformUsefulnessCollege',\n",
       " 'LearningPlatformUsefulnessCompany',\n",
       " 'LearningPlatformUsefulnessConferences',\n",
       " 'LearningPlatformUsefulnessFriends',\n",
       " 'LearningPlatformUsefulnessKaggle',\n",
       " 'LearningPlatformUsefulnessNewsletters',\n",
       " 'LearningPlatformUsefulnessCommunities',\n",
       " 'LearningPlatformUsefulnessDocumentation',\n",
       " 'LearningPlatformUsefulnessCourses',\n",
       " 'LearningPlatformUsefulnessProjects',\n",
       " 'LearningPlatformUsefulnessPodcasts',\n",
       " 'LearningPlatformUsefulnessSO',\n",
       " 'LearningPlatformUsefulnessTextbook',\n",
       " 'LearningPlatformUsefulnessTradeBook',\n",
       " 'LearningPlatformUsefulnessTutoring',\n",
       " 'LearningPlatformUsefulnessYouTube']"
      ]
     },
     "execution_count": 442,
     "metadata": {},
     "output_type": "execute_result"
    }
   ],
   "source": [
    "learning_list"
   ]
  },
  {
   "cell_type": "code",
   "execution_count": 425,
   "id": "a5c9ad68-0026-4244-8edc-2bff5bbbd7e8",
   "metadata": {},
   "outputs": [],
   "source": [
    "responses['LearningPlatformSelect'] = responses['LearningPlatformSelect'].dropna()"
   ]
  },
  {
   "cell_type": "code",
   "execution_count": 427,
   "id": "3d3c111f-60f8-4a9c-a19e-6f6d9a8ebae8",
   "metadata": {},
   "outputs": [
    {
     "data": {
      "text/plain": [
       "5317"
      ]
     },
     "execution_count": 427,
     "metadata": {},
     "output_type": "execute_result"
    }
   ],
   "source": [
    "responses['LearningPlatformSelect'].nunique()"
   ]
  },
  {
   "cell_type": "code",
   "execution_count": 434,
   "id": "fc42e708-8bfd-458d-9df3-29d62d70f60d",
   "metadata": {},
   "outputs": [
    {
     "name": "stdout",
     "output_type": "stream",
     "text": [
      "1301\n",
      "2296\n"
     ]
    }
   ],
   "source": [
    "print(len(responses[responses['LearningPlatformUsefulnessArxiv'] == \"Very useful\"]))\n",
    "print(len(responses[responses['LearningPlatformUsefulnessBlogs'] == \"Very useful\"]))"
   ]
  },
  {
   "cell_type": "code",
   "execution_count": 456,
   "id": "2e6a1757-706e-4752-a58f-7bd96019b29d",
   "metadata": {},
   "outputs": [
    {
     "name": "stdout",
     "output_type": "stream",
     "text": [
      "LearningPlatformSelect : 0\n",
      "LearningPlatformUsefulnessArxiv : 1301\n",
      "LearningPlatformUsefulnessBlogs : 2296\n",
      "LearningPlatformUsefulnessCollege : 1822\n",
      "LearningPlatformUsefulnessCompany : 437\n",
      "LearningPlatformUsefulnessConferences : 749\n",
      "LearningPlatformUsefulnessFriends : 746\n",
      "LearningPlatformUsefulnessKaggle : 4030\n",
      "LearningPlatformUsefulnessNewsletters : 346\n",
      "LearningPlatformUsefulnessCommunities : 553\n",
      "LearningPlatformUsefulnessDocumentation : 1195\n",
      "LearningPlatformUsefulnessCourses : 4142\n",
      "LearningPlatformUsefulnessProjects : 3535\n",
      "LearningPlatformUsefulnessPodcasts : 271\n",
      "LearningPlatformUsefulnessSO : 3494\n",
      "LearningPlatformUsefulnessTextbook : 2285\n",
      "LearningPlatformUsefulnessTradeBook : 158\n",
      "LearningPlatformUsefulnessTutoring : 811\n",
      "LearningPlatformUsefulnessYouTube : 2484\n"
     ]
    }
   ],
   "source": [
    "lista_vacia = []\n",
    "for i in learning_list:\n",
    "    print(i, \":\", len(learning[learning[i] == \"Very useful\"]))\n",
    "    item = (i, len(learning[learning[i] == \"Very useful\"]))\n",
    "    lista_vacia.append(item)\n"
   ]
  },
  {
   "cell_type": "code",
   "execution_count": 460,
   "id": "ad4f4878-6e54-4b96-803e-0311fff22b06",
   "metadata": {},
   "outputs": [],
   "source": [
    "df = pd.DataFrame(lista_vacia)"
   ]
  },
  {
   "cell_type": "code",
   "execution_count": 465,
   "id": "d9c4e96f-5d04-4e6f-a4eb-d2990296a15e",
   "metadata": {},
   "outputs": [
    {
     "data": {
      "text/html": [
       "<div>\n",
       "<style scoped>\n",
       "    .dataframe tbody tr th:only-of-type {\n",
       "        vertical-align: middle;\n",
       "    }\n",
       "\n",
       "    .dataframe tbody tr th {\n",
       "        vertical-align: top;\n",
       "    }\n",
       "\n",
       "    .dataframe thead th {\n",
       "        text-align: right;\n",
       "    }\n",
       "</style>\n",
       "<table border=\"1\" class=\"dataframe\">\n",
       "  <thead>\n",
       "    <tr style=\"text-align: right;\">\n",
       "      <th></th>\n",
       "      <th>0</th>\n",
       "      <th>1</th>\n",
       "    </tr>\n",
       "  </thead>\n",
       "  <tbody>\n",
       "    <tr>\n",
       "      <th>11</th>\n",
       "      <td>LearningPlatformUsefulnessCourses</td>\n",
       "      <td>4142</td>\n",
       "    </tr>\n",
       "    <tr>\n",
       "      <th>7</th>\n",
       "      <td>LearningPlatformUsefulnessKaggle</td>\n",
       "      <td>4030</td>\n",
       "    </tr>\n",
       "    <tr>\n",
       "      <th>12</th>\n",
       "      <td>LearningPlatformUsefulnessProjects</td>\n",
       "      <td>3535</td>\n",
       "    </tr>\n",
       "    <tr>\n",
       "      <th>14</th>\n",
       "      <td>LearningPlatformUsefulnessSO</td>\n",
       "      <td>3494</td>\n",
       "    </tr>\n",
       "    <tr>\n",
       "      <th>18</th>\n",
       "      <td>LearningPlatformUsefulnessYouTube</td>\n",
       "      <td>2484</td>\n",
       "    </tr>\n",
       "    <tr>\n",
       "      <th>2</th>\n",
       "      <td>LearningPlatformUsefulnessBlogs</td>\n",
       "      <td>2296</td>\n",
       "    </tr>\n",
       "    <tr>\n",
       "      <th>15</th>\n",
       "      <td>LearningPlatformUsefulnessTextbook</td>\n",
       "      <td>2285</td>\n",
       "    </tr>\n",
       "    <tr>\n",
       "      <th>3</th>\n",
       "      <td>LearningPlatformUsefulnessCollege</td>\n",
       "      <td>1822</td>\n",
       "    </tr>\n",
       "    <tr>\n",
       "      <th>1</th>\n",
       "      <td>LearningPlatformUsefulnessArxiv</td>\n",
       "      <td>1301</td>\n",
       "    </tr>\n",
       "    <tr>\n",
       "      <th>10</th>\n",
       "      <td>LearningPlatformUsefulnessDocumentation</td>\n",
       "      <td>1195</td>\n",
       "    </tr>\n",
       "    <tr>\n",
       "      <th>17</th>\n",
       "      <td>LearningPlatformUsefulnessTutoring</td>\n",
       "      <td>811</td>\n",
       "    </tr>\n",
       "    <tr>\n",
       "      <th>5</th>\n",
       "      <td>LearningPlatformUsefulnessConferences</td>\n",
       "      <td>749</td>\n",
       "    </tr>\n",
       "    <tr>\n",
       "      <th>6</th>\n",
       "      <td>LearningPlatformUsefulnessFriends</td>\n",
       "      <td>746</td>\n",
       "    </tr>\n",
       "    <tr>\n",
       "      <th>9</th>\n",
       "      <td>LearningPlatformUsefulnessCommunities</td>\n",
       "      <td>553</td>\n",
       "    </tr>\n",
       "    <tr>\n",
       "      <th>4</th>\n",
       "      <td>LearningPlatformUsefulnessCompany</td>\n",
       "      <td>437</td>\n",
       "    </tr>\n",
       "    <tr>\n",
       "      <th>8</th>\n",
       "      <td>LearningPlatformUsefulnessNewsletters</td>\n",
       "      <td>346</td>\n",
       "    </tr>\n",
       "    <tr>\n",
       "      <th>13</th>\n",
       "      <td>LearningPlatformUsefulnessPodcasts</td>\n",
       "      <td>271</td>\n",
       "    </tr>\n",
       "    <tr>\n",
       "      <th>16</th>\n",
       "      <td>LearningPlatformUsefulnessTradeBook</td>\n",
       "      <td>158</td>\n",
       "    </tr>\n",
       "    <tr>\n",
       "      <th>0</th>\n",
       "      <td>LearningPlatformSelect</td>\n",
       "      <td>0</td>\n",
       "    </tr>\n",
       "  </tbody>\n",
       "</table>\n",
       "</div>"
      ],
      "text/plain": [
       "                                          0     1\n",
       "11        LearningPlatformUsefulnessCourses  4142\n",
       "7          LearningPlatformUsefulnessKaggle  4030\n",
       "12       LearningPlatformUsefulnessProjects  3535\n",
       "14             LearningPlatformUsefulnessSO  3494\n",
       "18        LearningPlatformUsefulnessYouTube  2484\n",
       "2           LearningPlatformUsefulnessBlogs  2296\n",
       "15       LearningPlatformUsefulnessTextbook  2285\n",
       "3         LearningPlatformUsefulnessCollege  1822\n",
       "1           LearningPlatformUsefulnessArxiv  1301\n",
       "10  LearningPlatformUsefulnessDocumentation  1195\n",
       "17       LearningPlatformUsefulnessTutoring   811\n",
       "5     LearningPlatformUsefulnessConferences   749\n",
       "6         LearningPlatformUsefulnessFriends   746\n",
       "9     LearningPlatformUsefulnessCommunities   553\n",
       "4         LearningPlatformUsefulnessCompany   437\n",
       "8     LearningPlatformUsefulnessNewsletters   346\n",
       "13       LearningPlatformUsefulnessPodcasts   271\n",
       "16      LearningPlatformUsefulnessTradeBook   158\n",
       "0                    LearningPlatformSelect     0"
      ]
     },
     "execution_count": 465,
     "metadata": {},
     "output_type": "execute_result"
    }
   ],
   "source": [
    "df.sort_values(by = df.columns[1], ascending = False)"
   ]
  }
 ],
 "metadata": {
  "kernelspec": {
   "display_name": "Python 3",
   "language": "python",
   "name": "python3"
  },
  "language_info": {
   "codemirror_mode": {
    "name": "ipython",
    "version": 3
   },
   "file_extension": ".py",
   "mimetype": "text/x-python",
   "name": "python",
   "nbconvert_exporter": "python",
   "pygments_lexer": "ipython3",
   "version": "3.8.8"
  }
 },
 "nbformat": 4,
 "nbformat_minor": 5
}
