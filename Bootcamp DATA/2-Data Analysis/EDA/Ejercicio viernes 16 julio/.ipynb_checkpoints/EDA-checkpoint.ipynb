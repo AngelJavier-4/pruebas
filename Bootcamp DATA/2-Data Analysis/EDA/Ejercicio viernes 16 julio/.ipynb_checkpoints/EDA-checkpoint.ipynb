{
 "cells": [
  {
   "cell_type": "markdown",
   "id": "b4cffb4e-60e9-46a6-8b2d-ee92a38f2b53",
   "metadata": {},
   "source": [
    "# ANÁLISIS EXPLORATORIO DE DATOS\n",
    "\n",
    "En este caso, tenemos un csv (multipleChoiceResponses.csv) con las respuestas de una encuesta de Kaggle. Esta encuesta se hizo a los usuarios de Kaggle con relacción a su experiencia como data scientist en distintos ámbitos.\n",
    "\n",
    "Realiza un EDA y resuelve las siguientes cuestiones\n",
    "\n",
    "1. ¿Cuantos usuarios han contestado?\n",
    "2. Numero total de paises encuestados.\n",
    "3. País con mayor número de encuestados (y su numero).\n",
    "4. Encuestado con más edad y con menor edad.\n",
    "5. ¿Hay algún dato que no tenga sentido?, ¿Porqué?\n",
    "6. Realiza un análisis de encuestados por género con visualización.\n",
    "7. ¿Cuales son los 15 paises más encuestados? Hazlo con visualización.\n",
    "8. Realiza un análisis de salarios por género con visualización.\n",
    "9. Realiza un análisis de las mejores plataformas para aprender, con visualización.\n",
    "10. ¿Cuál es el salario máximo, minimo y medio? (Utiliza conversionRates.csv).\n",
    "11. ¿Hay algun dato que no tenga sentido?\n",
    "12. Realiza análisis y visualización de otros datos que te resulten relevantes para el EDA.\n",
    "\n",
    "¿Qué conclusiones sacas de tu EDA? \n",
    "\n",
    "\n",
    "\n",
    "\n"
   ]
  }
 ],
 "metadata": {
  "kernelspec": {
   "display_name": "Python 3",
   "language": "python",
   "name": "python3"
  },
  "language_info": {
   "codemirror_mode": {
    "name": "ipython",
    "version": 3
   },
   "file_extension": ".py",
   "mimetype": "text/x-python",
   "name": "python",
   "nbconvert_exporter": "python",
   "pygments_lexer": "ipython3",
   "version": "3.8.8"
  }
 },
 "nbformat": 4,
 "nbformat_minor": 5
}
