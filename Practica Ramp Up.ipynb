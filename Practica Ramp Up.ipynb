{
 "cells": [
  {
   "cell_type": "markdown",
   "metadata": {},
   "source": [
    "# Entrega Ramp Up\n"
   ]
  },
  {
   "cell_type": "markdown",
   "metadata": {},
   "source": [
    "## Ejercicio 1\n",
    "#### Crear un programa que calcule la cuota de una hipoteca\n",
    "\n",
    "Las cuotas hipotecarias se calculan utilizando la fórmula del interés frances. El objetivo del ejercicio es crear un programa que solicite al usuario los datos de su hipoteca (cantidad, intereses, y plazo en años) y le devuelva la cuota mensual a pagar\n",
    "\n",
    "La formula del interés frances es la siguiente:\n",
    "\\begin{align*}\n",
    "C=V \\frac{(1+i)^n i}{(1+i)^n -1}\n",
    "\\end{align*}\n",
    "\n",
    "\n",
    "    C = Cuota a pagar\n",
    "    V = Cantidad del préstamo hipotecario\n",
    "    i = tipo de interés del período (tipo de interes de la hipoteca por mes)\n",
    "    n = número de cuotas (en meses)\n",
    "\n",
    "V = 300.000\n",
    "\n",
    "i = 2 %\n",
    "\n",
    "n = 20*12\n",
    "\n",
    "output: 1517"
   ]
  },
  {
   "cell_type": "code",
   "execution_count": 139,
   "metadata": {},
   "outputs": [
    {
     "name": "stdin",
     "output_type": "stream",
     "text": [
      "Cantidad del prestamo hipotecario 300000\n",
      "tipo de interes del periodo 2\n",
      "numero de cuotas (meses) 240\n"
     ]
    },
    {
     "name": "stdout",
     "output_type": "stream",
     "text": [
      "1517\n"
     ]
    }
   ],
   "source": [
    "def hipoteca(v, i, n):\n",
    "    v = int(input(\"Cantidad del prestamo hipotecario\"))\n",
    "    i = float(input(\"tipo de interes del periodo\"))\n",
    "    i = (i/100)/12\n",
    "    n = int(input(\"numero de cuotas (meses)\"))\n",
    "    c = v*(1+i)**n*i / ((1+i)**n-1) \n",
    "    return c\n",
    "\n",
    "c = hipoteca(v, i, n)\n",
    "print(int(c))"
   ]
  },
  {
   "cell_type": "markdown",
   "metadata": {},
   "source": [
    "## Ejercicio 2\n",
    "#### Crear un programa que calcule el plan de amortización\n",
    "\n",
    "El objetivo del ejercicio es crear un programa que solicite al usuario los datos de su hipoteca (cantidad, intereses, y plazo en años) y le devuelva el plan de amortización.\n",
    "\n",
    "En cada cuota se pagan intereses por el capital restante, y se devuelve capital hasta la cuota mensual. El capital restante ha de ser actualizado restandole el capital devuelto.\n",
    "\n",
    "Salida ejemplo:\n",
    "\n",
    "mes  cuota  intereses  principal  pendiente   \n",
    "\n",
    "0  758.89   450.00   308.89   179691.11 \n",
    "\n",
    "**NOTA**: Tienes que partir de tipo de interes por periodo calculado en el apartado anterior, y del total de la hipoteca. Para cada mes calcular:\n",
    "\n",
    "1. cuota (apartado anterior)\n",
    "2. intereses a pagar del mes (lo que quede por pagar * interes por periodo del apartado anterior)\n",
    "3. principal (cuota - interes)\n",
    "4. pendiente (lo que quede por pagar - principal)\n",
    "\n",
    "Igual que se calcula aqui: http://www.calculohipoteca.org"
   ]
  },
  {
   "cell_type": "code",
   "execution_count": 140,
   "metadata": {},
   "outputs": [
    {
     "name": "stdin",
     "output_type": "stream",
     "text": [
      "Cantidad del prestamo hipotecario 300000\n",
      "tipo de interes del periodo 2\n",
      "numero de cuotas (meses) 240\n"
     ]
    },
    {
     "name": "stdout",
     "output_type": "stream",
     "text": [
      "1517 -119591 121108 -71876011\n"
     ]
    }
   ],
   "source": [
    "def hipoteca(v, i, n):\n",
    "    v = int(input(\"Cantidad del prestamo hipotecario\"))\n",
    "    i = float(input(\"tipo de interes del periodo\"))\n",
    "    i = (i/100)/12\n",
    "    n = int(input(\"numero de cuotas (meses)\"))\n",
    "    c = v*(1+i)**n*i / ((1+i)**n-1) \n",
    "    return c\n",
    "\n",
    "c = hipoteca(v, i, n)\n",
    "cuota = int(c)\n",
    "intereses_a_pagar_del_mes = int(v * i)\n",
    "principal = int(cuota - intereses_a_pagar_del_mes)\n",
    "pendiente = int(v - principal)\n",
    "\n",
    "#meter bucle para que recorra todas las cuotas hasta llegar a la ultima\n",
    "for x in range(0,241): \n",
    "    "
   ]
  },
  {
   "cell_type": "markdown",
   "metadata": {},
   "source": [
    "## Ejercicio 3\n",
    "#### Crear un programa que resuelva una ecuacción de segundo grado\n",
    "\n",
    "El objetivo del programa es resolver la ecuacción de sgundo grado \n",
    "\n",
    "\\begin{align*}\n",
    "ax^2+bx+c = 0\n",
    "\\end{align*}\n",
    "\n",
    "Pasando como parámetros los coeficientes de la ecuacción. La resolución de la ecuacción es la siguiente:\n",
    "\n",
    "\\begin{align*}\n",
    "x=\\frac{-b \\pm \\sqrt{b^2-4ac}}{2a}\n",
    "\\end{align*}\n",
    "\n",
    "Para realizar este programa tienes que utilizar el metodo sqrt() para calcular la raiz cuadrada. Para ello tienes que importar el módulo math. Así que tu programa debería empezar con ```ìmport math```\n"
   ]
  },
  {
   "cell_type": "code",
   "execution_count": 1,
   "metadata": {},
   "outputs": [
    {
     "data": {
      "text/plain": [
       "-4.0"
      ]
     },
     "execution_count": 1,
     "metadata": {},
     "output_type": "execute_result"
    }
   ],
   "source": [
    "import math\n",
    "\n",
    "def ecuacion_segundo_grado (a, b, c):\n",
    "    parte_raiz = b**2 -4*a*c\n",
    "    if parte_raiz > 0:\n",
    "        x1 = (-b + math.sqrt(parte_raiz))/2*a\n",
    "        x2 = (-b - math.sqrt(parte_raiz))/2*a\n",
    "        return x1, x2\n",
    "\n",
    "    elif parte_raiz == 0:\n",
    "        x1 = -b / 2*a\n",
    "        return x1\n",
    "\n",
    "    else:\n",
    "        return \"no hay solucion\"\n",
    "\n",
    "ecuacion_segundo_grado(2,4,2)"
   ]
  },
  {
   "cell_type": "markdown",
   "metadata": {},
   "source": [
    "## Ejercicio 4\n",
    "#### Crear un programa que calcule el average\n",
    "\n",
    "El programa pedirá al usuario que introduzca numeros. En primer lugar le pedirá que indique cuantos números se quieren introducir, y enseñara un prompt para incluirlos, y calculará el average.\n",
    "\n"
   ]
  },
  {
   "cell_type": "code",
   "execution_count": 49,
   "metadata": {},
   "outputs": [
    {
     "name": "stdin",
     "output_type": "stream",
     "text": [
      "¿Cuántos números desea introducir al programa? 3\n",
      "Introducelos dejando un espacio entre cada numero 12 34 56\n"
     ]
    },
    {
     "name": "stdout",
     "output_type": "stream",
     "text": [
      "['12', '34', '56']\n",
      "average es 34.0\n"
     ]
    }
   ],
   "source": [
    "average_numbers = int(input(\"¿Cuántos números desea introducir al programa?\"))\n",
    "mi_lista_de_numeros = (input(\"Introducelos dejando un espacio entre cada numero\"))\n",
    "\n",
    "def conv_string_en_lista(mi_lista_de_numeros): #pasar el string a lista quitando los espacios para que coja los numeros solo \n",
    "    lista = list(mi_lista_de_numeros.split(\" \"))\n",
    "    return lista \n",
    "\n",
    "print(conv_string_en_lista(mi_lista_de_numeros))\n",
    "mi_lista_de_numeros = conv_string_en_lista(mi_lista_de_numeros)\n",
    "#print(type(mi_lista_de_numeros))\n",
    "\n",
    "if average_numbers == len(mi_lista_de_numeros):\n",
    "    numeros = (int(x) for x in mi_lista_de_numeros) \n",
    "    average = sum(numeros) / len(mi_lista_de_numeros)\n",
    "    print(\"average es\", average)"
   ]
  },
  {
   "cell_type": "markdown",
   "metadata": {},
   "source": [
    "## Ejercicio 5\n",
    "#### Crear un programa que calcule el average II\n",
    "\n",
    "El programa pedirá que se diga cuantos números se quieren introducir, y enseñara un prompt para incluirl número a número en una lista, y calcule después el average.\n"
   ]
  },
  {
   "cell_type": "code",
   "execution_count": 118,
   "metadata": {},
   "outputs": [
    {
     "name": "stdin",
     "output_type": "stream",
     "text": [
      "¿Cuantos numeros desea introducir? 5\n",
      "Introduzca los números de los que quiere realizar el average 37628\n"
     ]
    },
    {
     "name": "stdout",
     "output_type": "stream",
     "text": [
      "['3', '7', '6', '2', '8']\n",
      "5.2\n",
      "None\n"
     ]
    }
   ],
   "source": [
    "average_numbers = int(input(\"¿Cuantos numeros desea introducir?\"))\n",
    "mi_lista_de_numeros = list(input(\"Introduzca los números de los que quiere realizar el average\"))\n",
    "\n",
    "def average(average_numbers, mi_lista_de_numeros):\n",
    "    if average_numbers == len(mi_lista_de_numeros):\n",
    "        numeros_int = (int(x) for x in mi_lista_de_numeros)\n",
    "        average = sum(numeros_int) / len(mi_lista_de_numeros)\n",
    "        print(average)\n",
    "    elif average_numbers != len(mi_lista_de_numeros):\n",
    "        print(\"Error al introducir los numeros\")\n",
    "\n",
    "print(mi_lista_de_numeros)\n",
    "print(average(average_numbers, mi_lista_de_numeros))\n",
    "\n",
    "#valido para calcular el average con numeros del 0 al 9"
   ]
  },
  {
   "cell_type": "code",
   "execution_count": 120,
   "metadata": {},
   "outputs": [
    {
     "name": "stdin",
     "output_type": "stream",
     "text": [
      "¿Cuántos números desea introducir al programa? 3\n",
      "introduce los numeros dejando un espacio entre ellos 34\n"
     ]
    },
    {
     "name": "stdout",
     "output_type": "stream",
     "text": [
      "3\n",
      "4\n",
      "<class 'list'>\n"
     ]
    }
   ],
   "source": [
    "average_numbers = int(input(\"¿Cuántos números desea introducir al programa?\"))\n",
    "#mi_lista_de_numeros = [34,54,76]  #Si realiza el average con numeros de dos digitos\n",
    "mi_lista_de_numeros = list(input(\"introduce los numeros dejando un espacio entre ellos\")) \n",
    "\n",
    "\"\"\"\n",
    "hace la lista pero los numeros de dos digitos los separa en dos, \n",
    "es decir, el 23 por ejemplo lo separa en dos y tres\n",
    "\"\"\"\n",
    "\n",
    "for x in mi_lista_de_numeros:\n",
    "    print(x)\n",
    "    \n",
    "print(type(mi_lista_de_numeros))    \n",
    "    \n",
    "if average_numbers == len(mi_lista_de_numeros):\n",
    "    numeros = (int(x) for x in mi_lista_de_numeros) \n",
    "    average = sum(numeros) / len(mi_lista_de_numeros)\n",
    "    print(\"average es\", average) "
   ]
  },
  {
   "cell_type": "markdown",
   "metadata": {},
   "source": [
    "## Ejercicio 6\n",
    "#### Write a Python program to convert a list of characters into a string.\n",
    "\n",
    "Sample list : ['a','b','c','d']\n",
    "\n",
    "Expected output : abcd"
   ]
  },
  {
   "cell_type": "code",
   "execution_count": 2,
   "metadata": {},
   "outputs": [
    {
     "name": "stdout",
     "output_type": "stream",
     "text": [
      "abcd\n"
     ]
    }
   ],
   "source": [
    "lista = [\"a\", \"b\", \"c\", \"d\"]\n",
    "string = \"\".join(lista)\n",
    "print(string)\n",
    "#print(type(string))"
   ]
  },
  {
   "cell_type": "markdown",
   "metadata": {},
   "source": [
    "## Ejercicio 7\n",
    "#### First and last 5\n",
    "Write a Python program to generate and print a list of first and last 5 elements where the values are square of numbers between 1 and 30 (both included). "
   ]
  },
  {
   "cell_type": "code",
   "execution_count": 105,
   "metadata": {},
   "outputs": [
    {
     "name": "stdout",
     "output_type": "stream",
     "text": [
      "[1, 4, 9, 16, 25]\n",
      "[676, 729, 784, 841, 900]\n"
     ]
    }
   ],
   "source": [
    "def first_and_last_5():\n",
    "    l = []\n",
    "    for i in range(1,31):\n",
    "        l.append(i*i)\n",
    "    return l\n",
    "\n",
    "lista = first_and_last_5()\n",
    "\n",
    "print(lista[:5])\n",
    "print(lista[-5::])"
   ]
  },
  {
   "cell_type": "markdown",
   "metadata": {},
   "source": [
    "## Ejercicio 8\n",
    "#### Interactuando con listas\n",
    "\n",
    "From given list gadgets = [“Mobile”, “Laptop”, 100, “Camera”, 310.28, “Speakers”, 27.00,\n",
    "“Television”, 1000, “Laptop Case”, “Camera Lens”]\n",
    "\n",
    "a)create separate lists of strings and numbers.  \n",
    "\n",
    "b)Sort the strings list in ascending order  \n",
    "\n",
    "c)Sort the strings list in descending order  \n",
    "\n",
    "d)Sort the number list from lowest to highest  \n",
    "\n",
    "e)Sort the number list from highest to lowest"
   ]
  },
  {
   "cell_type": "code",
   "execution_count": 11,
   "metadata": {},
   "outputs": [
    {
     "name": "stdout",
     "output_type": "stream",
     "text": [
      "[100, 310.28, 27.0, 1000]\n",
      "['Mobile', 'Laptop', 'Camera', 'Speakers', 'Television', 'Laptop Case', 'Camera Lens']\n",
      "['Camera', 'Camera Lens', 'Laptop', 'Laptop Case', 'Mobile', 'Speakers', 'Television']\n",
      "['Television', 'Speakers', 'Mobile', 'Laptop Case', 'Laptop', 'Camera Lens', 'Camera']\n",
      "[27.0, 100, 310.28, 1000]\n",
      "[1000, 310.28, 100, 27.0]\n"
     ]
    }
   ],
   "source": [
    "gadgets = [\"Mobile\", \"Laptop\", 100, \"Camera\", 310.28, \"Speakers\", 27.00, \"Television\", 1000, \"Laptop Case\", \"Camera Lens\"]\n",
    "lista_strings = []\n",
    "lista_numbers = []\n",
    "for i in gadgets:\n",
    "    if type(i) == int or type(i) == float:\n",
    "        lista_numbers.append(i)\n",
    "        continue\n",
    "    elif type(i) == str:\n",
    "        lista_strings.append(i)\n",
    "        continue\n",
    "print(lista_numbers)\n",
    "print(lista_strings)\n",
    "\n",
    "b = sorted((lista_strings), reverse = False)\n",
    "print(b)\n",
    "c = sorted((lista_strings), reverse = True)\n",
    "print(c)\n",
    "d = sorted((lista_numbers), reverse = False)\n",
    "print(d)\n",
    "e = sorted((lista_numbers), reverse = True)\n",
    "print(e)\n"
   ]
  },
  {
   "cell_type": "markdown",
   "metadata": {},
   "source": [
    "## Ejercicio 9\n",
    "#### Get first, second best scores from the list.\n",
    "\n",
    "List may contain duplicates.\n",
    "\n",
    "Ex: [86,86,85,85,85,83,23,45,84,1,2,0] => should get 86, 85"
   ]
  },
  {
   "cell_type": "code",
   "execution_count": 12,
   "metadata": {},
   "outputs": [
    {
     "name": "stdout",
     "output_type": "stream",
     "text": [
      "86 85\n"
     ]
    }
   ],
   "source": [
    "lista = [86,86,85,85,85,83,23,45,84,1,2,0]\n",
    "lista = sorted(set(lista), reverse = True)\n",
    "print(lista[0], lista[1])"
   ]
  },
  {
   "cell_type": "markdown",
   "metadata": {},
   "source": [
    "## Ejercicio 10\n",
    "#### Write a program that detects if a string is a palindrome\n",
    "Ask the user for a string and print out whether this string is a palindrome or not. (A palindrome is a string that reads the same forwards and backwards.)"
   ]
  },
  {
   "cell_type": "code",
   "execution_count": 141,
   "metadata": {},
   "outputs": [
    {
     "name": "stdout",
     "output_type": "stream",
     "text": [
      "a\n",
      "n\n",
      "n\n",
      "a\n",
      "lo es\n"
     ]
    }
   ],
   "source": [
    "string = \"anna\"\n",
    "\n",
    "for letra in string[::-1]: \n",
    "    print(letra)\n",
    "\n",
    "if string[::-1] == string:\n",
    "    print(\"lo es\")\n",
    "else:\n",
    "    print(\"no lo es\")"
   ]
  },
  {
   "cell_type": "markdown",
   "metadata": {},
   "source": [
    "## (Bonus) Ejercicio 11\n",
    "#### Desarrolla el juego del ahorcado\n",
    "El juego del ahorcado consiste en adivinar una palabra, probando letra a letra. El jugaor tiene permitidos 6 fallos, al 7mo fallo pierde. \n",
    "\n",
    "* Habrá que imprimir por pantalla una cantidad de guiones igual al numero de letras e ir sustituyéndolos con los aciertos.\n",
    "* Necesitarás usar un bucle while con un input para modelar las jugadas del ahoracado. En cada ejecución del while comprueba las vidas del jugador, y los aciertos."
   ]
  },
  {
   "cell_type": "code",
   "execution_count": null,
   "metadata": {},
   "outputs": [],
   "source": []
  }
 ],
 "metadata": {
  "kernelspec": {
   "display_name": "Python 3",
   "language": "python",
   "name": "python3"
  },
  "language_info": {
   "codemirror_mode": {
    "name": "ipython",
    "version": 3
   },
   "file_extension": ".py",
   "mimetype": "text/x-python",
   "name": "python",
   "nbconvert_exporter": "python",
   "pygments_lexer": "ipython3",
   "version": "3.8.8"
  }
 },
 "nbformat": 4,
 "nbformat_minor": 4
}
